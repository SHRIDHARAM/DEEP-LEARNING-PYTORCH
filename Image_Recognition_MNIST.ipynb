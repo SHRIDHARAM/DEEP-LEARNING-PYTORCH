{
  "nbformat": 4,
  "nbformat_minor": 0,
  "metadata": {
    "colab": {
      "name": "Image Recognition MNIST.ipynb",
      "provenance": []
    },
    "kernelspec": {
      "name": "python3",
      "display_name": "Python 3"
    },
    "language_info": {
      "name": "python"
    }
  },
  "cells": [
    {
      "cell_type": "code",
      "execution_count": 1,
      "metadata": {
        "id": "OhuyQBOxWfgW"
      },
      "outputs": [],
      "source": [
        "import torch \n",
        "import torch.nn as nn\n",
        "import numpy as np \n",
        "import matplotlib.pyplot as plt \n",
        "from sklearn import datasets\n",
        "import torch.nn.functional as F"
      ]
    },
    {
      "cell_type": "code",
      "source": [
        "from torchvision import datasets, transforms"
      ],
      "metadata": {
        "id": "Ux2T2HGQdpEP"
      },
      "execution_count": 2,
      "outputs": []
    },
    {
      "cell_type": "code",
      "source": [
        "transform = transforms.Compose((transforms.ToTensor(),\n",
        "                               transforms.Normalize((0.5,),(0.5,))))    #greyscale\n",
        "\n",
        "training_dataset = datasets.MNIST(root='./data', train = True, download = True, transform=transform)\n",
        "training_dataset"
      ],
      "metadata": {
        "colab": {
          "base_uri": "https://localhost:8080/"
        },
        "id": "DRBahHCE3HVt",
        "outputId": "25226fca-5f69-4326-ebb2-fe84a30b440c"
      },
      "execution_count": 4,
      "outputs": [
        {
          "output_type": "execute_result",
          "data": {
            "text/plain": [
              "Dataset MNIST\n",
              "    Number of datapoints: 60000\n",
              "    Root location: ./data\n",
              "    Split: Train\n",
              "    StandardTransform\n",
              "Transform: Compose(\n",
              "               ToTensor()\n",
              "               Normalize(mean=(0.5,), std=(0.5,))\n",
              "           )"
            ]
          },
          "metadata": {},
          "execution_count": 4
        }
      ]
    },
    {
      "cell_type": "code",
      "source": [
        "training_loader = torch.utils.data.DataLoader(dataset=training_dataset, batch_size= 100, shuffle=True)"
      ],
      "metadata": {
        "id": "SkAb2OkfOFtr"
      },
      "execution_count": 5,
      "outputs": []
    },
    {
      "cell_type": "markdown",
      "source": [
        "In the last layer we didnt applied the relu or activation function since we need the rwa output of our network.\n",
        "This output is called score. nn.CrossEntropyLoss(log_softmax, NegativeLogLikelyhoodLoss) needs score. \n",
        "\n"
      ],
      "metadata": {
        "id": "oaRcSPZDKwG2"
      }
    },
    {
      "cell_type": "code",
      "source": [
        "class Classifier(nn.Module):\n",
        "  def __init__(self, input, h1, h2, out):\n",
        "    super().__init__()\n",
        "    self.linear1= nn.Linear(input,h1)\n",
        "    self.linear2= nn.Linear(h1,h2)\n",
        "    self.linear3= nn.Linear(h2,out)\n",
        "\n",
        "  def forward(self,x):\n",
        "    x = F.relu(self.linear1(x))\n",
        "    x = F.relu(self.linear2(x))\n",
        "    x = (self.linear3(x))\n",
        "    return x"
      ],
      "metadata": {
        "id": "qMLP8e2vIoCi"
      },
      "execution_count": 6,
      "outputs": []
    },
    {
      "cell_type": "code",
      "source": [
        "model = Classifier(784, 125, 65, 10)\n",
        "model"
      ],
      "metadata": {
        "colab": {
          "base_uri": "https://localhost:8080/"
        },
        "id": "IUzyoiRZJFhi",
        "outputId": "78fdde95-57c6-4089-ace5-3c17fc36f7b8"
      },
      "execution_count": 7,
      "outputs": [
        {
          "output_type": "execute_result",
          "data": {
            "text/plain": [
              "Classifier(\n",
              "  (linear1): Linear(in_features=784, out_features=125, bias=True)\n",
              "  (linear2): Linear(in_features=125, out_features=65, bias=True)\n",
              "  (linear3): Linear(in_features=65, out_features=10, bias=True)\n",
              ")"
            ]
          },
          "metadata": {},
          "execution_count": 7
        }
      ]
    },
    {
      "cell_type": "code",
      "source": [
        "criterion = nn.CrossEntropyLoss()\n",
        "optimizer = torch.optim.Adam(model.parameters(), lr= 0.0001)"
      ],
      "metadata": {
        "id": "x03xe4-jNgqO"
      },
      "execution_count": 15,
      "outputs": []
    },
    {
      "cell_type": "code",
      "source": [
        "epochs= 10 \n",
        "running_loss_history = []\n",
        "running_corrects_history =[]\n",
        "\n",
        "for n in range(epochs):\n",
        "  running_loss=0.0\n",
        "  running_corrects=0.0\n",
        "  for inputs, labels in training_loader:\n",
        "    inputs= inputs.view(inputs.shape[0],-1)\n",
        "    #1,28,28\n",
        "    outputs= model(inputs)\n",
        "    loss = criterion(outputs,labels)\n",
        "    optimizer.zero_grad()\n",
        "    loss.backward()\n",
        "    optimizer.step()\n",
        "\n",
        "    _, preds =torch.max(outputs,1)\n",
        "\n",
        "    running_loss += loss.item()\n",
        "    running_corrects +=torch.sum(preds == labels.data)\n",
        "  else:\n",
        "    epoch_loss= running_loss/len(training_loader)\n",
        "    epoch_corrects= running_corrects/len(training_loader)\n",
        "    running_loss_history.append(epoch_loss)\n",
        "    running_corrects_history.append(epoch_corrects)\n",
        "    print('training_loss',epoch_loss, 'accuracy',epoch_corrects )\n",
        "\n",
        "\n",
        "    "
      ],
      "metadata": {
        "id": "lTBD1UUrN1FM",
        "colab": {
          "base_uri": "https://localhost:8080/"
        },
        "outputId": "25f21932-90cd-4c6a-9632-6230a9f3e5e0"
      },
      "execution_count": 16,
      "outputs": [
        {
          "output_type": "stream",
          "name": "stdout",
          "text": [
            "training_loss 0.1106023433812273 accuracy tensor(96.9017)\n",
            "training_loss 0.08985441843513399 accuracy tensor(97.4733)\n",
            "training_loss 0.08443366664772232 accuracy tensor(97.6383)\n",
            "training_loss 0.08099481222064545 accuracy tensor(97.7233)\n",
            "training_loss 0.07840560779169513 accuracy tensor(97.8000)\n",
            "training_loss 0.07630300860619173 accuracy tensor(97.8850)\n",
            "training_loss 0.07458421415804575 accuracy tensor(97.9033)\n",
            "training_loss 0.07300196939962916 accuracy tensor(97.9633)\n",
            "training_loss 0.07167687391939884 accuracy tensor(97.9833)\n",
            "training_loss 0.07047407083562575 accuracy tensor(98.0083)\n"
          ]
        }
      ]
    },
    {
      "cell_type": "code",
      "source": [
        "plt.plot(range(epochs),running_loss_history)"
      ],
      "metadata": {
        "colab": {
          "base_uri": "https://localhost:8080/",
          "height": 282
        },
        "id": "UxBHs9xEmB3g",
        "outputId": "fdd7d2d5-c2e7-4c94-805f-51b8fe5c532c"
      },
      "execution_count": 14,
      "outputs": [
        {
          "output_type": "execute_result",
          "data": {
            "text/plain": [
              "[<matplotlib.lines.Line2D at 0x7f59f62cc910>]"
            ]
          },
          "metadata": {},
          "execution_count": 14
        },
        {
          "output_type": "display_data",
          "data": {
            "text/plain": [
              "<Figure size 432x288 with 1 Axes>"
            ],
            "image/png": "[encoded data removed]"
          },
          "metadata": {
            "needs_background": "light"
          }
        }
      ]
    },
    {
      "cell_type": "markdown",
      "source": [
        "The above graph refers that learning rate is quite high, and we have reached divergence."
      ],
      "metadata": {
        "id": "SelyZIEvQF-E"
      }
    },
    {
      "cell_type": "code",
      "source": [
        "plt.plot(range(epochs),running_loss_history)"
      ],
      "metadata": {
        "colab": {
          "base_uri": "https://localhost:8080/",
          "height": 282
        },
        "id": "6Hqmzz2mQC2A",
        "outputId": "a68724a7-e5bf-4f0d-87d6-3ef5f7abd495"
      },
      "execution_count": 17,
      "outputs": [
        {
          "output_type": "execute_result",
          "data": {
            "text/plain": [
              "[<matplotlib.lines.Line2D at 0x7f59f51e2250>]"
            ]
          },
          "metadata": {},
          "execution_count": 17
        },
        {
          "output_type": "display_data",
          "data": {
            "text/plain": [
              "<Figure size 432x288 with 1 Axes>"
            ],
            "image/png": "[encoded data removed]"
          },
          "metadata": {
            "needs_background": "light"
          }
        }
      ]
    },
    {
      "cell_type": "markdown",
      "source": [
        "Decreasing the learning rate, gives quite good result and smooth curve"
      ],
      "metadata": {
        "id": "Gnw4hSJmQ_9N"
      }
    }
  ]
}