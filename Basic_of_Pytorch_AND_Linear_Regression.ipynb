{
  "cells": [
    {
      "cell_type": "markdown",
      "metadata": {
        "id": "Pyq1m9xODf2W"
      },
      "source": [
        "Tensors\n"
      ]
    },
    {
      "cell_type": "code",
      "execution_count": null,
      "metadata": {
        "id": "lpTj7oARDjQM"
      },
      "outputs": [],
      "source": [
        "import torch "
      ]
    },
    {
      "cell_type": "markdown",
      "metadata": {
        "id": "YBaikoHXD2rC"
      },
      "source": [
        "Creating a 1-d tensor and indexing"
      ]
    },
    {
      "cell_type": "code",
      "execution_count": null,
      "metadata": {
        "colab": {
          "base_uri": "https://localhost:8080/"
        },
        "id": "kqOgukAADllD",
        "outputId": "a13d1e94-3318-4042-c94f-8a2e96627987"
      },
      "outputs": [
        {
          "name": "stdout",
          "output_type": "stream",
          "text": [
            "torch.int64\n",
            "torch.Size([8])\n",
            "tensor(3)\n",
            "tensor([3, 4])\n",
            "tensor([1, 2, 3, 4, 5, 6, 7, 8])\n",
            "tensor([3, 4, 5, 6, 7, 8])\n",
            "tensor([1, 2])\n"
          ]
        }
      ],
      "source": [
        "v = torch.tensor([1,2,3,4,5,6,7,8])\n",
        "print(v.dtype)\n",
        "print(v.size())\n",
        "print(v[2])\n",
        "print(v[2:4])\n",
        "print(v[:])\n",
        "print(v[2:])\n",
        "print(v[:2])"
      ]
    },
    {
      "cell_type": "code",
      "execution_count": null,
      "metadata": {
        "colab": {
          "base_uri": "https://localhost:8080/"
        },
        "id": "b3UUhM0EEEHl",
        "outputId": "8841b332-0666-4df8-ace9-d3a4d8e94c60"
      },
      "outputs": [
        {
          "data": {
            "text/plain": [
              "tensor([[1, 2],\n",
              "        [3, 4],\n",
              "        [5, 6],\n",
              "        [7, 8]])"
            ]
          },
          "execution_count": 8,
          "metadata": {},
          "output_type": "execute_result"
        }
      ],
      "source": [
        "v.view(4,2)    #works like reshape  #4 matrices of size 2"
      ]
    },
    {
      "cell_type": "code",
      "execution_count": null,
      "metadata": {
        "colab": {
          "base_uri": "https://localhost:8080/"
        },
        "id": "sX6fkgxtDsPQ",
        "outputId": "366bc47b-9a48-4a04-861f-fb1b80876c26"
      },
      "outputs": [
        {
          "data": {
            "text/plain": [
              "tensor([[1, 2, 3, 4],\n",
              "        [5, 6, 7, 8]])"
            ]
          },
          "execution_count": 9,
          "metadata": {},
          "output_type": "execute_result"
        }
      ],
      "source": [
        "v.view(2,4)"
      ]
    },
    {
      "cell_type": "code",
      "execution_count": null,
      "metadata": {
        "id": "4A0G8Y0PKghk"
      },
      "outputs": [],
      "source": [
        "import numpy as np"
      ]
    },
    {
      "cell_type": "markdown",
      "metadata": {
        "id": "lNKY9cd1K9Uu"
      },
      "source": [
        "conversion of np array to tensor and reverse"
      ]
    },
    {
      "cell_type": "code",
      "execution_count": null,
      "metadata": {
        "colab": {
          "base_uri": "https://localhost:8080/"
        },
        "id": "wtyAoi83KxE2",
        "outputId": "27ca961a-59af-42bf-c3ea-2121cd331fd7"
      },
      "outputs": [
        {
          "name": "stdout",
          "output_type": "stream",
          "text": [
            "torch.LongTensor\n"
          ]
        }
      ],
      "source": [
        "a = np.array([1,2,3,4,5])\n",
        "tensor_a= torch.from_numpy(a)\n",
        "print(tensor_a.type())"
      ]
    },
    {
      "cell_type": "code",
      "execution_count": null,
      "metadata": {
        "colab": {
          "base_uri": "https://localhost:8080/"
        },
        "id": "AfPBRiphLVWY",
        "outputId": "db17b08d-b926-4ff6-8b8c-88587ff7b936"
      },
      "outputs": [
        {
          "name": "stdout",
          "output_type": "stream",
          "text": [
            "[1 2 3 4 5]\n"
          ]
        }
      ],
      "source": [
        "numpy_a= tensor_a.numpy()\n",
        "print(numpy_a)"
      ]
    },
    {
      "cell_type": "markdown",
      "metadata": {
        "id": "_g1AjCq7LtZ0"
      },
      "source": [
        "Vector operation"
      ]
    },
    {
      "cell_type": "code",
      "execution_count": null,
      "metadata": {
        "colab": {
          "base_uri": "https://localhost:8080/"
        },
        "id": "plnmTZFNLhaK",
        "outputId": "1ec73a54-5174-44aa-a263-26967246011a"
      },
      "outputs": [
        {
          "name": "stdout",
          "output_type": "stream",
          "text": [
            "tensor([ 4,  8, 12])\n",
            "tensor([ 3, 12, 27])\n"
          ]
        }
      ],
      "source": [
        "t_1= torch.tensor([1,2,3])\n",
        "t_2= torch.tensor([3,6,9])\n",
        "print(t_1+t_2)\n",
        "print(t_1*t_2)"
      ]
    },
    {
      "cell_type": "code",
      "execution_count": null,
      "metadata": {
        "colab": {
          "base_uri": "https://localhost:8080/"
        },
        "id": "l2A3yWMkMMfX",
        "outputId": "16d28348-b07e-4861-f2ea-d1d84fb59006"
      },
      "outputs": [
        {
          "name": "stdout",
          "output_type": "stream",
          "text": [
            "tensor(42)\n"
          ]
        }
      ],
      "source": [
        "t_dot = torch.dot(t_1,t_2)\n",
        "print(t_dot)"
      ]
    },
    {
      "cell_type": "markdown",
      "metadata": {
        "id": "KUmUtjlEM829"
      },
      "source": [
        "common thing used for plotting the graph"
      ]
    },
    {
      "cell_type": "code",
      "execution_count": null,
      "metadata": {
        "id": "6qjM2YyiMkQQ"
      },
      "outputs": [],
      "source": [
        "x= torch.linspace(0,10,100)  #gives hundred values equally spaced between 0 to 10\n",
        "#we can specify the value of x\n",
        "y= torch.exp(x)\n",
        "z= torch.sin(x)\n",
        "e= torch.log(x)\n"
      ]
    },
    {
      "cell_type": "code",
      "execution_count": null,
      "metadata": {
        "id": "OAMzINjSNIwX"
      },
      "outputs": [],
      "source": [
        "import matplotlib.pyplot as plt\n"
      ]
    },
    {
      "cell_type": "markdown",
      "metadata": {
        "id": "fl0T_ZP6OIxp"
      },
      "source": [
        "matplotlib doesnt work with tensors, works with np, so do remember to convert\n"
      ]
    },
    {
      "cell_type": "code",
      "execution_count": null,
      "metadata": {
        "colab": {
          "base_uri": "https://localhost:8080/",
          "height": 282
        },
        "id": "0UjFaiMDN-iV",
        "outputId": "3eb11697-79b3-4a98-f468-be49843a2419"
      },
      "outputs": [
        {
          "data": {
            "text/plain": [
              "[<matplotlib.lines.Line2D at 0x7fc268b08250>]"
            ]
          },
          "execution_count": 24,
          "metadata": {},
          "output_type": "execute_result"
        },
        {
          "data": {
            "image/png": "[encoded data removed]",
            "text/plain": [
              "<Figure size 432x288 with 1 Axes>"
            ]
          },
          "metadata": {},
          "output_type": "display_data"
        }
      ],
      "source": [
        "plt.plot(x.numpy(), y.numpy())"
      ]
    },
    {
      "cell_type": "code",
      "execution_count": null,
      "metadata": {
        "colab": {
          "base_uri": "https://localhost:8080/",
          "height": 282
        },
        "id": "3jj5NI0ROayi",
        "outputId": "abab5051-8f01-4d18-a212-802bd01f9689"
      },
      "outputs": [
        {
          "data": {
            "text/plain": [
              "[<matplotlib.lines.Line2D at 0x7fc268ad15d0>]"
            ]
          },
          "execution_count": 26,
          "metadata": {},
          "output_type": "execute_result"
        },
        {
          "data": {
            "image/png": "[encoded data removed]",
            "text/plain": [
              "<Figure size 432x288 with 1 Axes>"
            ]
          },
          "metadata": {},
          "output_type": "display_data"
        }
      ],
      "source": [
        "plt.plot(x.numpy(),z.numpy())\n"
      ]
    },
    {
      "cell_type": "code",
      "execution_count": null,
      "metadata": {
        "colab": {
          "base_uri": "https://localhost:8080/",
          "height": 282
        },
        "id": "i0472n1cO7RK",
        "outputId": "a338e1cf-aed7-4939-d701-f94b4b89c65b"
      },
      "outputs": [
        {
          "data": {
            "text/plain": [
              "[<matplotlib.lines.Line2D at 0x7fc2689a2e50>]"
            ]
          },
          "execution_count": 27,
          "metadata": {},
          "output_type": "execute_result"
        },
        {
          "data": {
            "image/png": "[encoded data removed]",
            "text/plain": [
              "<Figure size 432x288 with 1 Axes>"
            ]
          },
          "metadata": {},
          "output_type": "display_data"
        }
      ],
      "source": [
        "plt.plot(x.numpy(),e.numpy())\n"
      ]
    },
    {
      "cell_type": "markdown",
      "metadata": {
        "id": "a8qy3DjpPPNM"
      },
      "source": [
        "2 dimensional tensors(grey-scale images)\n",
        "\n",
        "\n",
        "\n"
      ]
    },
    {
      "cell_type": "markdown",
      "metadata": {
        "id": "SMuupiOnS-tF"
      },
      "source": [
        "to random create a size of an array, with different use cases"
      ]
    },
    {
      "cell_type": "code",
      "execution_count": null,
      "metadata": {
        "colab": {
          "base_uri": "https://localhost:8080/"
        },
        "id": "N2WxF2LPPD98",
        "outputId": "8c911901-b0c0-43ef-d84b-945446e6edff"
      },
      "outputs": [
        {
          "name": "stdout",
          "output_type": "stream",
          "text": [
            "tensor([0., 0., 0., 0., 0., 0., 0., 0., 0.])\n"
          ]
        }
      ],
      "source": [
        "one_d= torch.zeros(9)\n",
        "print(one_d)"
      ]
    },
    {
      "cell_type": "code",
      "execution_count": null,
      "metadata": {
        "colab": {
          "base_uri": "https://localhost:8080/"
        },
        "id": "kc-a54TSS37t",
        "outputId": "fc649bcb-2279-42ed-9fab-2532416b1577"
      },
      "outputs": [
        {
          "name": "stdout",
          "output_type": "stream",
          "text": [
            "tensor([1, 2, 3, 4, 5, 6, 7, 8, 9])\n"
          ]
        }
      ],
      "source": [
        "b_d= torch.arange(1,10)\n",
        "print(b_d)"
      ]
    },
    {
      "cell_type": "code",
      "execution_count": null,
      "metadata": {
        "colab": {
          "base_uri": "https://localhost:8080/"
        },
        "id": "Ks2Evj2LTQ79",
        "outputId": "7e5644d6-df9b-4bc0-f7de-6cd326a083cd"
      },
      "outputs": [
        {
          "name": "stdout",
          "output_type": "stream",
          "text": [
            "tensor([-0.7369,  0.9600, -0.5172,  0.0858,  1.8058, -0.4791, -0.5263, -0.4738,\n",
            "         0.2281])\n"
          ]
        }
      ],
      "source": [
        "c_d = torch.randn(9)\n",
        "print(c_d)"
      ]
    },
    {
      "cell_type": "code",
      "execution_count": null,
      "metadata": {
        "colab": {
          "base_uri": "https://localhost:8080/"
        },
        "id": "J_c1h1I8Uti9",
        "outputId": "41826cd6-02bb-4aa6-9ddd-6f6e823d801c"
      },
      "outputs": [
        {
          "name": "stdout",
          "output_type": "stream",
          "text": [
            "tensor([[3, 2, 1, 5, 3, 4, 4, 3, 1]])\n"
          ]
        }
      ],
      "source": [
        "d_d= torch.randint(1,6,(1,9)) #low #high #(size(r,c))\n",
        "print(d_d)"
      ]
    },
    {
      "cell_type": "code",
      "execution_count": null,
      "metadata": {
        "colab": {
          "base_uri": "https://localhost:8080/"
        },
        "id": "gguujWunVIVi",
        "outputId": "30f372a7-a2f2-4694-df9c-ccefb0ca5592"
      },
      "outputs": [
        {
          "data": {
            "text/plain": [
              "tensor([[3, 2, 1],\n",
              "        [5, 3, 4],\n",
              "        [4, 3, 1]])"
            ]
          },
          "execution_count": 39,
          "metadata": {},
          "output_type": "execute_result"
        }
      ],
      "source": [
        "d_d.view(3,3)"
      ]
    },
    {
      "cell_type": "code",
      "execution_count": null,
      "metadata": {
        "colab": {
          "base_uri": "https://localhost:8080/"
        },
        "id": "dWL88iZWV9yX",
        "outputId": "2c0ac2ed-552a-4936-8a62-71a7839ed0f2"
      },
      "outputs": [
        {
          "data": {
            "text/plain": [
              "2"
            ]
          },
          "execution_count": 40,
          "metadata": {},
          "output_type": "execute_result"
        }
      ],
      "source": [
        "d_d.dim()"
      ]
    },
    {
      "cell_type": "code",
      "execution_count": null,
      "metadata": {
        "colab": {
          "base_uri": "https://localhost:8080/"
        },
        "id": "bGHFS6zHWEmo",
        "outputId": "281e43aa-92a0-42d4-deba-694546636b0c"
      },
      "outputs": [
        {
          "data": {
            "text/plain": [
              "tensor(1)"
            ]
          },
          "execution_count": 42,
          "metadata": {},
          "output_type": "execute_result"
        }
      ],
      "source": [
        "d_d[0,2]"
      ]
    },
    {
      "cell_type": "code",
      "execution_count": null,
      "metadata": {
        "colab": {
          "base_uri": "https://localhost:8080/"
        },
        "id": "UDDSLaLbWLdT",
        "outputId": "663ff4a8-2254-40d3-ca22-94cc69afd2cf"
      },
      "outputs": [
        {
          "data": {
            "text/plain": [
              "tensor([3, 2])"
            ]
          },
          "execution_count": 43,
          "metadata": {},
          "output_type": "execute_result"
        }
      ],
      "source": [
        "d_d[0,:2]"
      ]
    },
    {
      "cell_type": "code",
      "execution_count": null,
      "metadata": {
        "colab": {
          "base_uri": "https://localhost:8080/"
        },
        "id": "86alR8QgWsjk",
        "outputId": "b2ac943f-ce8d-4572-88b0-46d610630026"
      },
      "outputs": [
        {
          "data": {
            "text/plain": [
              "tensor([[3, 2, 1, 5, 3, 4, 4, 3, 1]])"
            ]
          },
          "execution_count": 44,
          "metadata": {},
          "output_type": "execute_result"
        }
      ],
      "source": [
        "d_d[:,:]"
      ]
    },
    {
      "cell_type": "code",
      "execution_count": null,
      "metadata": {
        "colab": {
          "base_uri": "https://localhost:8080/"
        },
        "id": "Tib-DXD4Wx1u",
        "outputId": "4c852f4a-a4b9-4e74-e6c7-b47a418e274a"
      },
      "outputs": [
        {
          "data": {
            "text/plain": [
              "tensor([[3, 2]])"
            ]
          },
          "execution_count": 45,
          "metadata": {},
          "output_type": "execute_result"
        }
      ],
      "source": [
        "d_d[:2,:2]"
      ]
    },
    {
      "cell_type": "code",
      "execution_count": null,
      "metadata": {
        "colab": {
          "base_uri": "https://localhost:8080/"
        },
        "id": "5vTyTvezW7fD",
        "outputId": "eaab34e0-d4af-4489-bf94-bd744c5bc51b"
      },
      "outputs": [
        {
          "name": "stdout",
          "output_type": "stream",
          "text": [
            "tensor([[[-0.4810,  0.1596,  2.2738],\n",
            "         [-0.8096,  0.1925,  2.1203],\n",
            "         [ 0.8268,  1.4122,  0.8709]],\n",
            "\n",
            "        [[-1.1338, -0.4935, -0.1967],\n",
            "         [ 1.8406,  0.5754,  0.4315],\n",
            "         [ 1.1135,  0.2890,  0.6269]]])\n"
          ]
        }
      ],
      "source": [
        "x = torch.randn(18).view(2,3,3)\n",
        "print(x)"
      ]
    },
    {
      "cell_type": "code",
      "execution_count": null,
      "metadata": {
        "id": "6tZ0m3171eyU"
      },
      "outputs": [],
      "source": [
        "y=x.numpy()"
      ]
    },
    {
      "cell_type": "code",
      "execution_count": null,
      "metadata": {
        "colab": {
          "base_uri": "https://localhost:8080/",
          "height": 306
        },
        "id": "qUEbh2lb2IxC",
        "outputId": "d18f512e-7f85-4e54-d492-a3dd304064fd"
      },
      "outputs": [
        {
          "name": "stderr",
          "output_type": "stream",
          "text": [
            "Clipping input data to the valid range for imshow with RGB data ([0..1] for floats or [0..255] for integers).\n"
          ]
        },
        {
          "data": {
            "image/png": "[encoded data removed]",
            "text/plain": [
              "<Figure size 432x288 with 1 Axes>"
            ]
          },
          "metadata": {},
          "output_type": "display_data"
        }
      ],
      "source": [
        "plt.imshow(y)\n",
        "plt.show()"
      ]
    },
    {
      "cell_type": "markdown",
      "metadata": {
        "id": "wdH55nbt2pRX"
      },
      "source": [
        "3D TENSORS INDEXING AND SLICING"
      ]
    },
    {
      "cell_type": "code",
      "execution_count": null,
      "metadata": {
        "colab": {
          "base_uri": "https://localhost:8080/"
        },
        "id": "WgmBdmzb2RhX",
        "outputId": "5b7d2e8e-a61e-40d6-d2f1-93ae26277d86"
      },
      "outputs": [
        {
          "name": "stdout",
          "output_type": "stream",
          "text": [
            "tensor(0.2890)\n",
            "tensor(0.1925)\n",
            "tensor(0.5754)\n"
          ]
        }
      ],
      "source": [
        "print(x[1,2,1])\n",
        "print(x[0,1,1])\n",
        "print(x[1,1,1])"
      ]
    },
    {
      "cell_type": "code",
      "execution_count": null,
      "metadata": {
        "colab": {
          "base_uri": "https://localhost:8080/"
        },
        "id": "dxwsB10s3LGY",
        "outputId": "5318650f-71a4-47ec-b2f8-f1ebfacf5dbf"
      },
      "outputs": [
        {
          "name": "stdout",
          "output_type": "stream",
          "text": [
            "tensor([[-1.1338, -0.4935, -0.1967],\n",
            "        [ 1.8406,  0.5754,  0.4315],\n",
            "        [ 1.1135,  0.2890,  0.6269]])\n"
          ]
        }
      ],
      "source": [
        "print(x[1,:,:])"
      ]
    },
    {
      "cell_type": "code",
      "execution_count": null,
      "metadata": {
        "colab": {
          "base_uri": "https://localhost:8080/"
        },
        "id": "ZDsk2xLu3xnZ",
        "outputId": "77a12f40-f2f2-46cf-c941-37ffa7a2dd6e"
      },
      "outputs": [
        {
          "name": "stdout",
          "output_type": "stream",
          "text": [
            "tensor([[-0.8096,  0.1925,  2.1203],\n",
            "        [ 0.8268,  1.4122,  0.8709]])\n"
          ]
        }
      ],
      "source": [
        "print(x[0,1:,:])"
      ]
    },
    {
      "cell_type": "code",
      "execution_count": null,
      "metadata": {
        "colab": {
          "base_uri": "https://localhost:8080/"
        },
        "id": "mv-Sr4vU38fC",
        "outputId": "482ac0ca-cb96-4536-a607-744fdd182180"
      },
      "outputs": [
        {
          "name": "stdout",
          "output_type": "stream",
          "text": [
            "tensor([[-1.1338, -0.4935],\n",
            "        [ 1.8406,  0.5754],\n",
            "        [ 1.1135,  0.2890]])\n"
          ]
        }
      ],
      "source": [
        "print(x[1,:,:2])"
      ]
    },
    {
      "cell_type": "markdown",
      "metadata": {
        "id": "DL07n1RB4Zo9"
      },
      "source": [
        "Matrix mutiplication"
      ]
    },
    {
      "cell_type": "code",
      "execution_count": null,
      "metadata": {
        "colab": {
          "base_uri": "https://localhost:8080/"
        },
        "id": "Blt7Am074J6d",
        "outputId": "39fa5eeb-3b27-457e-c4ac-eaecc4d90b34"
      },
      "outputs": [
        {
          "name": "stdout",
          "output_type": "stream",
          "text": [
            "tensor([[41, 44, 42, 43, 38, 45],\n",
            "        [61, 74, 66, 69, 68, 77]])\n"
          ]
        }
      ],
      "source": [
        " m_1 = torch.randint(1,6,(2,3))\n",
        " m_2 = torch.randint(5,9,(3,6))\n",
        " #resultant mat should be of 2*6 size\n",
        " m_3 = torch.matmul(m_1,m_2)\n",
        " print(m_3)"
      ]
    },
    {
      "cell_type": "markdown",
      "metadata": {
        "id": "azNpLK9MJmXf"
      },
      "source": [
        "derivative and partial derivatives"
      ]
    },
    {
      "cell_type": "code",
      "execution_count": null,
      "metadata": {
        "id": "0YKGyv4qCnLM"
      },
      "outputs": [],
      "source": [
        "import torch"
      ]
    },
    {
      "cell_type": "code",
      "execution_count": null,
      "metadata": {
        "colab": {
          "base_uri": "https://localhost:8080/"
        },
        "id": "F5d5YfyCHfGP",
        "outputId": "797b3c4d-5910-44d6-a422-9be36709fd31"
      },
      "outputs": [
        {
          "data": {
            "text/plain": [
              "tensor(1026.)"
            ]
          },
          "execution_count": 7,
          "metadata": {},
          "output_type": "execute_result"
        }
      ],
      "source": [
        "x = torch.tensor(3.0,requires_grad=True)   #value is in float always \n",
        "y = 9*x**4+2*x**3+2   #function\n",
        "\n",
        "y.backward()  #evaluates the derivative\n",
        "x.grad  #evaluates the gradiant at point x"
      ]
    },
    {
      "cell_type": "code",
      "execution_count": null,
      "metadata": {
        "colab": {
          "base_uri": "https://localhost:8080/"
        },
        "id": "XzuZm2q7IGpn",
        "outputId": "860ccf04-ec23-4e1c-e109-843d9034735f"
      },
      "outputs": [
        {
          "name": "stdout",
          "output_type": "stream",
          "text": [
            "tensor(7680.)\n",
            "tensor(300.)\n"
          ]
        }
      ],
      "source": [
        "a = torch.tensor(4.0,requires_grad= True)\n",
        "b = torch.tensor(5.0, requires_grad= True)\n",
        "c = 6*a**5+4*b**3\n",
        "\n",
        "c.backward()\n",
        "print(a.grad)\n",
        "print(b.grad)"
      ]
    },
    {
      "cell_type": "markdown",
      "metadata": {
        "id": "YWrgJkzoJrtk"
      },
      "source": [
        "Linear model regression "
      ]
    },
    {
      "cell_type": "markdown",
      "metadata": {
        "id": "oa5tx-l6ZwpM"
      },
      "source": [
        "Making predictions "
      ]
    },
    {
      "cell_type": "code",
      "execution_count": null,
      "metadata": {
        "id": "n2JaimkEJVY3"
      },
      "outputs": [],
      "source": [
        "w = torch.tensor([2.0,3.0,4.0], requires_grad=True) \n",
        "b = torch.tensor([3.0,2.0,10.0], requires_grad= True) "
      ]
    },
    {
      "cell_type": "code",
      "execution_count": null,
      "metadata": {
        "id": "TKDh3ddRaeMP"
      },
      "outputs": [],
      "source": [
        "def forward(x):\n",
        "   y = w*x+b\n",
        "\n",
        "   return y"
      ]
    },
    {
      "cell_type": "code",
      "execution_count": null,
      "metadata": {
        "colab": {
          "base_uri": "https://localhost:8080/"
        },
        "id": "DUkU34fwatxw",
        "outputId": "d4492a49-da25-45cf-c99f-0f1520db522d"
      },
      "outputs": [
        {
          "data": {
            "text/plain": [
              "tensor([13.0000, 10.7000, 46.0000], grad_fn=<AddBackward0>)"
            ]
          },
          "execution_count": 15,
          "metadata": {},
          "output_type": "execute_result"
        }
      ],
      "source": [
        "x = torch.tensor([5.0,2.9,9.0], requires_grad=True)\n",
        "forward(x)"
      ]
    },
    {
      "cell_type": "markdown",
      "metadata": {
        "id": "ZHFko7pKbzwc"
      },
      "source": [
        "Linear class"
      ]
    },
    {
      "cell_type": "code",
      "execution_count": null,
      "metadata": {
        "id": "0EPBo0BibUHA"
      },
      "outputs": [],
      "source": [
        "import torch\n",
        "from torch.nn import Linear"
      ]
    },
    {
      "cell_type": "code",
      "execution_count": null,
      "metadata": {
        "colab": {
          "base_uri": "https://localhost:8080/"
        },
        "id": "z2F5DavycBDw",
        "outputId": "b7376eeb-b27e-4cf3-d217-0908624a2e77"
      },
      "outputs": [
        {
          "data": {
            "text/plain": [
              "<torch._C.Generator at 0x7fc61f7c5730>"
            ]
          },
          "execution_count": 17,
          "metadata": {},
          "output_type": "execute_result"
        }
      ],
      "source": [
        "torch.manual_seed(1000)"
      ]
    },
    {
      "cell_type": "code",
      "execution_count": null,
      "metadata": {
        "colab": {
          "base_uri": "https://localhost:8080/"
        },
        "id": "S0PaUZ-7dDic",
        "outputId": "3830191b-543f-47aa-9152-c099b157f5f4"
      },
      "outputs": [
        {
          "name": "stdout",
          "output_type": "stream",
          "text": [
            "Parameter containing:\n",
            "tensor([-0.4839], requires_grad=True) Parameter containing:\n",
            "tensor([[-0.1164]], requires_grad=True)\n"
          ]
        }
      ],
      "source": [
        "model = Linear(in_features=1,out_features=1)\n",
        "print(model.bias, model.weight)"
      ]
    },
    {
      "cell_type": "code",
      "execution_count": null,
      "metadata": {
        "colab": {
          "base_uri": "https://localhost:8080/"
        },
        "id": "11IFF9GydT31",
        "outputId": "94f8baba-24ad-4921-bbf0-f2c7c8532784"
      },
      "outputs": [
        {
          "name": "stdout",
          "output_type": "stream",
          "text": [
            "tensor([[-0.7168],\n",
            "        [-0.8333],\n",
            "        [-0.9497]], grad_fn=<AddmmBackward0>)\n"
          ]
        }
      ],
      "source": [
        "x = torch.tensor([[2.0],[3.0],[4.0]])\n",
        "print(model(x))"
      ]
    },
    {
      "cell_type": "markdown",
      "metadata": {
        "id": "dP868tUlcDCe"
      },
      "source": [
        "Custom modules"
      ]
    },
    {
      "cell_type": "code",
      "execution_count": null,
      "metadata": {
        "id": "THcHeUrBd28_"
      },
      "outputs": [],
      "source": [
        "import torch\n",
        "import torch.nn as nn"
      ]
    },
    {
      "cell_type": "code",
      "execution_count": null,
      "metadata": {
        "id": "UkJeB5JWcL_j"
      },
      "outputs": [],
      "source": [
        "class LR(nn.Module):\n",
        "  def __init__(self, input_size, output_size):\n",
        "    super().__init__()\n",
        "    self.linear = nn.Linear(input_size, output_size)\n",
        "\n",
        "  def forward(self,x):\n",
        "    pred = self.linear(x)\n",
        "    return pred\n",
        "\n",
        "\n"
      ]
    },
    {
      "cell_type": "code",
      "execution_count": null,
      "metadata": {
        "id": "pAKiH7nGdEXs"
      },
      "outputs": [],
      "source": [
        "torch.manual_seed(1)\n",
        "model = LR(1,1)"
      ]
    },
    {
      "cell_type": "code",
      "execution_count": null,
      "metadata": {
        "colab": {
          "base_uri": "https://localhost:8080/"
        },
        "id": "qYU8OozEgAtJ",
        "outputId": "5495cbbf-d688-4003-b381-cb01c19bea57"
      },
      "outputs": [
        {
          "data": {
            "text/plain": [
              "tensor([[0.0739],\n",
              "        [1.1044],\n",
              "        [2.6502],\n",
              "        [3.1655]], grad_fn=<AddmmBackward0>)"
            ]
          },
          "execution_count": 11,
          "metadata": {},
          "output_type": "execute_result"
        }
      ],
      "source": [
        "x = torch.tensor([[1.0],[3.0],[6.0],[7.0]])\n",
        "model.forward(x)"
      ]
    },
    {
      "cell_type": "markdown",
      "metadata": {
        "id": "fPAXNv1Hg6LH"
      },
      "source": [
        "Creating a dataset"
      ]
    },
    {
      "cell_type": "code",
      "execution_count": null,
      "metadata": {
        "id": "cbF4Rw-ggfPn"
      },
      "outputs": [],
      "source": [
        "import matplotlib.pyplot as plt\n"
      ]
    },
    {
      "cell_type": "code",
      "execution_count": null,
      "metadata": {
        "colab": {
          "base_uri": "https://localhost:8080/",
          "height": 296
        },
        "id": "RpNreI4chcuH",
        "outputId": "7291433b-f94a-45a6-d0a4-cf9796b2f0c2"
      },
      "outputs": [
        {
          "data": {
            "text/plain": [
              "Text(0.5, 0, 'x')"
            ]
          },
          "execution_count": 16,
          "metadata": {},
          "output_type": "execute_result"
        },
        {
          "data": {
            "image/png": "[encoded data removed]",
            "text/plain": [
              "<Figure size 432x288 with 1 Axes>"
            ]
          },
          "metadata": {},
          "output_type": "display_data"
        }
      ],
      "source": [
        "x = torch.randn(100,1)*10\n",
        "y = x + torch.randn(100,1)\n",
        "plt.plot(x.numpy(),y.numpy(), 'o')\n",
        "plt.ylabel('y')\n",
        "plt.xlabel('x')"
      ]
    },
    {
      "cell_type": "code",
      "execution_count": null,
      "metadata": {
        "id": "D27vc1MChnQe"
      },
      "outputs": [],
      "source": [
        "class LR(nn.Module):\n",
        "  def __init__(self, input_size, output_size):\n",
        "    super().__init__()\n",
        "    self.linear = nn.Linear(input_size, output_size)\n",
        "\n",
        "  def forward(self,x):\n",
        "    pred = self.linear(x)\n",
        "    return pred"
      ]
    },
    {
      "cell_type": "code",
      "execution_count": null,
      "metadata": {
        "id": "jZ2D4MFRilkA"
      },
      "outputs": [],
      "source": [
        "torch.manual_seed(1)\n",
        "model = LR(1,1)"
      ]
    },
    {
      "cell_type": "code",
      "execution_count": null,
      "metadata": {
        "colab": {
          "base_uri": "https://localhost:8080/"
        },
        "id": "wrmXz63Qioe3",
        "outputId": "63ca7761-dcde-4933-de97-ff35f07295e2"
      },
      "outputs": [
        {
          "name": "stdout",
          "output_type": "stream",
          "text": [
            "Parameter containing:\n",
            "tensor([[0.5153]], requires_grad=True) Parameter containing:\n",
            "tensor([-0.4414], requires_grad=True)\n"
          ]
        }
      ],
      "source": [
        "[w,b] = model.parameters()\n",
        "print(w,b)"
      ]
    },
    {
      "cell_type": "code",
      "execution_count": null,
      "metadata": {
        "colab": {
          "base_uri": "https://localhost:8080/"
        },
        "id": "0SrMnAdai8-k",
        "outputId": "0626c8fc-e92f-47d0-a534-b8add7f69c25"
      },
      "outputs": [
        {
          "name": "stdout",
          "output_type": "stream",
          "text": [
            "0.5152631998062134 -0.44137823581695557\n"
          ]
        }
      ],
      "source": [
        "w1= w[0][0].item()\n",
        "b1= b[0].item()\n",
        "print(w1,b1)"
      ]
    },
    {
      "cell_type": "code",
      "execution_count": null,
      "metadata": {
        "id": "083d8wrml1kZ"
      },
      "outputs": [],
      "source": [
        "import numpy as np"
      ]
    },
    {
      "cell_type": "code",
      "execution_count": null,
      "metadata": {
        "colab": {
          "base_uri": "https://localhost:8080/",
          "height": 265
        },
        "id": "eS3IrghWjptu",
        "outputId": "8b7a93f3-3107-436a-da28-f8c52aa3bee7"
      },
      "outputs": [
        {
          "data": {
            "image/png": "[encoded data removed]",
            "text/plain": [
              "<Figure size 432x288 with 1 Axes>"
            ]
          },
          "metadata": {},
          "output_type": "display_data"
        }
      ],
      "source": [
        "x1= np.array([-30,30])\n",
        "y1 = w1*x+b1\n",
        "plt.plot(x,y1,'r')\n",
        "plt.scatter(x,y)\n",
        "plt.show()"
      ]
    },
    {
      "cell_type": "markdown",
      "metadata": {
        "id": "HMDBR02u_86P"
      },
      "source": [
        "Training and fitting the line best to the data points, by gradient desecnt method. In this method we calculate the gradient(vector quantity) and move in the opposite direction, to reach the local minima. "
      ]
    },
    {
      "cell_type": "markdown",
      "metadata": {
        "id": "PfnZ-YNkAdTo"
      },
      "source": [
        "The mean squared error is actually partially differentiated wrt to weights and biases. "
      ]
    },
    {
      "cell_type": "markdown",
      "metadata": {
        "id": "1m_UzIuBAtp4"
      },
      "source": [
        "w(new) = w(old)-a(f`(w(old))) , where a is the learning rate. which makes the next step size smaller and helps fit better, by reaching to the minima and not crossing it. "
      ]
    },
    {
      "cell_type": "markdown",
      "metadata": {
        "id": "0aIkn4R0BK9C"
      },
      "source": [
        "LOSS AND TRAINING"
      ]
    },
    {
      "cell_type": "code",
      "execution_count": null,
      "metadata": {
        "id": "515gYUk9lz68"
      },
      "outputs": [],
      "source": [
        "criterion = nn.MSELoss()\n",
        "optimizer = torch.optim.SGD(model.parameters(), lr= 0.01)"
      ]
    },
    {
      "cell_type": "markdown",
      "metadata": {
        "id": "mT5Ebf9uGRnx"
      },
      "source": [
        "Passing the whole data again and again through the optimization, to better train the model."
      ]
    },
    {
      "cell_type": "code",
      "execution_count": null,
      "metadata": {
        "colab": {
          "background_save": true
        },
        "id": "0G5zinchCItM"
      },
      "outputs": [],
      "source": [
        "epochs = 100 \n",
        "losses= []"
      ]
    },
    {
      "cell_type": "code",
      "execution_count": null,
      "metadata": {
        "id": "kP-uK1MVG0zw"
      },
      "outputs": [],
      "source": [
        "for i in range(epochs):\n",
        "  y_pred = model.forward(x)\n",
        "  loss = criterion(y_pred,y)\n",
        "  print('epoch',i,'loss', loss.item())\n",
        "\n",
        "  losses.append(loss)\n",
        "  optimizer.zero_grad()\n",
        "  loss.backward()\n",
        "  optimizer.step()"
      ]
    },
    {
      "cell_type": "markdown",
      "source": [
        "PERCEPTRON\n",
        "Multiple input one output"
      ],
      "metadata": {
        "id": "zqClJpN_c_ep"
      }
    },
    {
      "cell_type": "code",
      "source": [
        "import torch\n",
        "from sklearn import datasets\n",
        "import numpy as np \n",
        "import matplotlib.pyplot as plt\n"
      ],
      "metadata": {
        "id": "NDleyi28c-fd"
      },
      "execution_count": null,
      "outputs": []
    },
    {
      "cell_type": "code",
      "source": [
        "n_pts = 100\n",
        "centers= [[-0.5,0.5], [0.5,-0.5]]\n",
        "x, y = datasets.make_blobs(n_samples= n_pts, random_state= 123, centers= centers, cluster_std=0.3)\n",
        "print(x,y)\n",
        "x_data= torch.Tensor(x)\n",
        "y_data= torch.Tensor(y.reshape(100,1))"
      ],
      "metadata": {
        "colab": {
          "base_uri": "https://localhost:8080/"
        },
        "id": "0SbhNntieLMM",
        "outputId": "9fa64f39-175e-4928-95b9-d0b922d79af9"
      },
      "execution_count": null,
      "outputs": [
        {
          "output_type": "stream",
          "name": "stdout",
          "text": [
            "[[-0.22786844  0.07139579]\n",
            " [ 0.72828482 -0.40295935]\n",
            " [-0.57668581 -0.33957673]\n",
            " [ 0.5531577  -0.5089904 ]\n",
            " [-0.12021912  0.23997788]\n",
            " [-0.78075016  0.85274871]\n",
            " [ 0.27306884 -0.40349403]\n",
            " [-0.60050323  0.80933434]\n",
            " [-0.48635298  0.43007238]\n",
            " [ 0.02311367  0.26058118]\n",
            " [-0.59442744  0.17422928]\n",
            " [-0.35946826  0.2506535 ]\n",
            " [-0.2063792   1.171443  ]\n",
            " [-0.05130676  0.8208178 ]\n",
            " [-0.39842328  0.49645085]\n",
            " [ 0.69261641 -1.09336638]\n",
            " [ 0.12613401  0.54933237]\n",
            " [-0.62100981  0.46219112]\n",
            " [ 0.38251406 -0.45800657]\n",
            " [-0.44568946  0.85335858]\n",
            " [-0.19878383  0.61585592]\n",
            " [ 0.21770958  0.62387365]\n",
            " [-0.22176127  0.4479093 ]\n",
            " [ 0.62784399 -0.98162292]\n",
            " [ 0.7437024  -0.35007796]\n",
            " [ 0.66696461 -0.56362404]\n",
            " [-0.49914623  0.70646681]\n",
            " [-0.15493834  0.11979439]\n",
            " [ 0.91860588 -0.60768078]\n",
            " [ 0.57614494 -0.41488239]\n",
            " [ 0.55386485 -1.05859271]\n",
            " [-0.27878943  0.94721961]\n",
            " [ 0.98260729 -0.58106972]\n",
            " [-0.85949034  0.55985722]\n",
            " [ 0.27775587 -0.47812783]\n",
            " [-0.7197386   0.13624306]\n",
            " [ 0.5060948  -0.55818916]\n",
            " [-0.8761642   0.30867455]\n",
            " [ 0.5237681  -0.58231897]\n",
            " [-0.75125502  0.01821117]\n",
            " [-0.00171425  0.74219246]\n",
            " [ 0.33532388 -0.79341731]\n",
            " [ 0.80382172 -0.41637774]\n",
            " [-0.12342879  0.2933393 ]\n",
            " [ 0.16177902  1.15603583]\n",
            " [ 0.4172642  -0.66563242]\n",
            " [ 0.42809937 -0.45700768]\n",
            " [ 0.64230419 -0.66917718]\n",
            " [-0.23278808  1.02646585]\n",
            " [ 0.55987463 -0.53783533]\n",
            " [ 0.62092579 -0.05842119]\n",
            " [ 0.54020804 -0.28865778]\n",
            " [-0.38617982  0.38624707]\n",
            " [-0.70366585  0.47158731]\n",
            " [ 0.33531347  0.04179103]\n",
            " [ 0.63688127 -0.03663666]\n",
            " [-0.8882256   0.18836354]\n",
            " [-0.74160996 -0.01830085]\n",
            " [ 0.27943491 -0.3496253 ]\n",
            " [-0.15133879  0.17083909]\n",
            " [-0.82537037  0.09095854]\n",
            " [ 0.55910568 -1.4693165 ]\n",
            " [ 0.1853025  -0.52253618]\n",
            " [ 0.95565969 -0.60620003]\n",
            " [-0.41510645  0.04811159]\n",
            " [-1.03145993  0.29003683]\n",
            " [ 0.20080356 -0.83001293]\n",
            " [-0.49109503  0.82079479]\n",
            " [ 0.53622421 -0.27553531]\n",
            " [-0.63319459  0.36969462]\n",
            " [ 0.41921195 -0.53325522]\n",
            " [-0.4057184   0.10212036]\n",
            " [ 1.0878234  -1.10751373]\n",
            " [ 0.07643334 -1.0630606 ]\n",
            " [-0.61726994  0.67214176]\n",
            " [ 0.59221527 -0.6833676 ]\n",
            " [-0.73181261  0.7384588 ]\n",
            " [ 0.91317724 -0.54295279]\n",
            " [ 0.37169612 -0.12713914]\n",
            " [-0.07481029  0.74217096]\n",
            " [ 0.69969603 -0.76952688]\n",
            " [-0.54202062  0.24147353]\n",
            " [-0.67358008  0.99543096]\n",
            " [ 0.95709913 -0.82850794]\n",
            " [ 0.49261221 -0.48975736]\n",
            " [ 0.39762149 -0.56538388]\n",
            " [ 0.33540736 -1.26711638]\n",
            " [-0.82568918  0.79920363]\n",
            " [-1.22800377  0.37132621]\n",
            " [ 0.71367939  0.27949118]\n",
            " [ 0.25297058 -0.46093551]\n",
            " [ 0.66615685 -0.65920237]\n",
            " [ 0.19410348 -0.44961731]\n",
            " [ 0.88018959 -0.40017051]\n",
            " [ 0.52803825 -0.06212322]\n",
            " [-0.05258311  0.3083294 ]\n",
            " [ 0.08871546 -0.59974258]\n",
            " [-0.7638609   0.5850882 ]\n",
            " [ 0.39355266 -0.38252473]\n",
            " [-1.13693011  0.81191813]] [0 1 0 1 0 0 1 0 0 0 0 0 0 0 0 1 0 0 1 0 0 0 0 1 1 1 0 0 1 1 1 0 1 0 1 0 1\n",
            " 0 1 0 0 1 1 0 0 1 1 1 0 1 1 1 0 0 1 1 0 0 1 0 0 1 1 1 0 0 1 0 1 0 1 0 1 1\n",
            " 0 1 0 1 1 0 1 0 0 1 1 1 1 0 0 1 1 1 1 1 1 0 1 0 1 0]\n"
          ]
        }
      ]
    },
    {
      "cell_type": "code",
      "source": [
        " plt.scatter(x[y==0, 0], x[y==0, 1])\n",
        " plt.scatter(x[y==1, 0], x[y==1, 1])"
      ],
      "metadata": {
        "colab": {
          "base_uri": "https://localhost:8080/",
          "height": 282
        },
        "id": "-lLB-QvvfS3N",
        "outputId": "739d9de8-4315-4428-a90e-ff5f92960d32"
      },
      "execution_count": null,
      "outputs": [
        {
          "output_type": "execute_result",
          "data": {
            "text/plain": [
              "<matplotlib.collections.PathCollection at 0x7f9e66fa7650>"
            ]
          },
          "metadata": {},
          "execution_count": 5
        },
        {
          "output_type": "display_data",
          "data": {
            "text/plain": [
              "<Figure size 432x288 with 1 Axes>"
            ],
            "image/png": "[encoded data removed]"
          },
          "metadata": {
            "needs_background": "light"
          }
        }
      ]
    },
    {
      "cell_type": "code",
      "source": [
        "import torch.nn as nn"
      ],
      "metadata": {
        "id": "jgIS129Rh6-f"
      },
      "execution_count": null,
      "outputs": []
    },
    {
      "cell_type": "markdown",
      "source": [
        "plt.plot is used for a single label data. Appliance is for all.\n",
        "Whereas the plt.scatter is used for different labels, more control over the color and size of the dots."
      ],
      "metadata": {
        "id": "OKguyPXYi_ju"
      }
    },
    {
      "cell_type": "code",
      "source": [
        "class Model(nn.Module):\n",
        "\n",
        "  def __init__(self, input, output):\n",
        "    super().__init__()\n",
        "    self.perceptron= nn.Linear(input, output)\n",
        "\n",
        "  def forward(self,x):\n",
        "    pred= torch.sigmoid(self.perceptron(x))\n",
        "    return pred\n",
        "\n",
        "  def predict(self,x):\n",
        "    pred = self.forward(x)\n",
        "    if pred>0.5:\n",
        "      return 1\n",
        "    else:\n",
        "      return 0\n"
      ],
      "metadata": {
        "id": "kI4MQIfvi44o"
      },
      "execution_count": null,
      "outputs": []
    },
    {
      "cell_type": "code",
      "source": [
        "torch.manual_seed(2)\n",
        "model = Model(2,1)\n",
        "[w,b] = model.parameters()\n",
        "print([w,b])"
      ],
      "metadata": {
        "colab": {
          "base_uri": "https://localhost:8080/"
        },
        "id": "oRnUjgeMh-sH",
        "outputId": "e8cef0d3-6046-47af-c77f-4cd814ef2734"
      },
      "execution_count": null,
      "outputs": [
        {
          "output_type": "stream",
          "name": "stdout",
          "text": [
            "[Parameter containing:\n",
            "tensor([[ 0.1622, -0.1683]], requires_grad=True), Parameter containing:\n",
            "tensor([0.1939], requires_grad=True)]\n"
          ]
        }
      ]
    },
    {
      "cell_type": "code",
      "source": [
        "w1= w[0,0].item()\n",
        "w2= w[0,1].item()\n",
        "b= b.item()\n",
        "print(w1,w2,b)"
      ],
      "metadata": {
        "colab": {
          "base_uri": "https://localhost:8080/"
        },
        "id": "TaJMl_2yiMLD",
        "outputId": "bfc9c8b1-b977-4d8f-bfa8-c32754bdff5a"
      },
      "execution_count": null,
      "outputs": [
        {
          "output_type": "stream",
          "name": "stdout",
          "text": [
            "0.1622033268213272 -0.1682732254266739 0.1939089596271515\n"
          ]
        }
      ]
    },
    {
      "cell_type": "code",
      "source": [
        "x1= np.array([-2,2])\n",
        "x2 = (w1*x1+b)/-w2\n",
        "plt.plot(x1,x2,'r')\n",
        "plt.scatter(x[y==0, 0], x[y==0, 1])\n",
        "plt.scatter(x[y==1, 0], x[y==1, 1])\n",
        "plt.show()"
      ],
      "metadata": {
        "colab": {
          "base_uri": "https://localhost:8080/",
          "height": 265
        },
        "id": "NhDZofL6ixgA",
        "outputId": "cf9417ce-eeeb-453f-8173-7fcf190080dc"
      },
      "execution_count": null,
      "outputs": [
        {
          "output_type": "display_data",
          "data": {
            "text/plain": [
              "<Figure size 432x288 with 1 Axes>"
            ],
            "image/png": "[encoded data removed]"
          },
          "metadata": {
            "needs_background": "light"
          }
        }
      ]
    },
    {
      "cell_type": "code",
      "source": [
        "criterion = nn.BCELoss()\n",
        "optimizer = torch.optim.SGD(model.parameters(), lr= .01)"
      ],
      "metadata": {
        "id": "PVkQoa7_jtTS"
      },
      "execution_count": null,
      "outputs": []
    },
    {
      "cell_type": "code",
      "source": [
        "epochs = 1000\n",
        "losses = []\n",
        "\n",
        "for i in range(epochs):\n",
        "  y_pred = model.forward(x_data)\n",
        "  loss = criterion(y_pred, y_data)\n",
        "  print(i,'epoch', 'loss', loss)\n",
        "  losses.append(loss)\n",
        "  \n",
        "  optimizer.zero_grad()\n",
        "  loss.backward() \n",
        "  optimizer.step()\n",
        "\n"
      ],
      "metadata": {
        "colab": {
          "base_uri": "https://localhost:8080/"
        },
        "id": "TORn3suhovRK",
        "outputId": "7566a6d2-160a-4352-8cd1-ab1b81f83cfd"
      },
      "execution_count": null,
      "outputs": [
        {
          "output_type": "stream",
          "name": "stdout",
          "text": [
            "0 epoch loss tensor(0.4562, grad_fn=<BinaryCrossEntropyBackward0>)\n",
            "1 epoch loss tensor(0.4556, grad_fn=<BinaryCrossEntropyBackward0>)\n",
            "2 epoch loss tensor(0.4550, grad_fn=<BinaryCrossEntropyBackward0>)\n",
            "3 epoch loss tensor(0.4544, grad_fn=<BinaryCrossEntropyBackward0>)\n",
            "4 epoch loss tensor(0.4538, grad_fn=<BinaryCrossEntropyBackward0>)\n",
            "5 epoch loss tensor(0.4532, grad_fn=<BinaryCrossEntropyBackward0>)\n",
            "6 epoch loss tensor(0.4526, grad_fn=<BinaryCrossEntropyBackward0>)\n",
            "7 epoch loss tensor(0.4520, grad_fn=<BinaryCrossEntropyBackward0>)\n",
            "8 epoch loss tensor(0.4514, grad_fn=<BinaryCrossEntropyBackward0>)\n",
            "9 epoch loss tensor(0.4508, grad_fn=<BinaryCrossEntropyBackward0>)\n",
            "10 epoch loss tensor(0.4503, grad_fn=<BinaryCrossEntropyBackward0>)\n",
            "11 epoch loss tensor(0.4497, grad_fn=<BinaryCrossEntropyBackward0>)\n",
            "12 epoch loss tensor(0.4491, grad_fn=<BinaryCrossEntropyBackward0>)\n",
            "13 epoch loss tensor(0.4485, grad_fn=<BinaryCrossEntropyBackward0>)\n",
            "14 epoch loss tensor(0.4479, grad_fn=<BinaryCrossEntropyBackward0>)\n",
            "15 epoch loss tensor(0.4473, grad_fn=<BinaryCrossEntropyBackward0>)\n",
            "16 epoch loss tensor(0.4467, grad_fn=<BinaryCrossEntropyBackward0>)\n",
            "17 epoch loss tensor(0.4462, grad_fn=<BinaryCrossEntropyBackward0>)\n",
            "18 epoch loss tensor(0.4456, grad_fn=<BinaryCrossEntropyBackward0>)\n",
            "19 epoch loss tensor(0.4450, grad_fn=<BinaryCrossEntropyBackward0>)\n",
            "20 epoch loss tensor(0.4444, grad_fn=<BinaryCrossEntropyBackward0>)\n",
            "21 epoch loss tensor(0.4439, grad_fn=<BinaryCrossEntropyBackward0>)\n",
            "22 epoch loss tensor(0.4433, grad_fn=<BinaryCrossEntropyBackward0>)\n",
            "23 epoch loss tensor(0.4427, grad_fn=<BinaryCrossEntropyBackward0>)\n",
            "24 epoch loss tensor(0.4421, grad_fn=<BinaryCrossEntropyBackward0>)\n",
            "25 epoch loss tensor(0.4416, grad_fn=<BinaryCrossEntropyBackward0>)\n",
            "26 epoch loss tensor(0.4410, grad_fn=<BinaryCrossEntropyBackward0>)\n",
            "27 epoch loss tensor(0.4404, grad_fn=<BinaryCrossEntropyBackward0>)\n",
            "28 epoch loss tensor(0.4399, grad_fn=<BinaryCrossEntropyBackward0>)\n",
            "29 epoch loss tensor(0.4393, grad_fn=<BinaryCrossEntropyBackward0>)\n",
            "30 epoch loss tensor(0.4388, grad_fn=<BinaryCrossEntropyBackward0>)\n",
            "31 epoch loss tensor(0.4382, grad_fn=<BinaryCrossEntropyBackward0>)\n",
            "32 epoch loss tensor(0.4376, grad_fn=<BinaryCrossEntropyBackward0>)\n",
            "33 epoch loss tensor(0.4371, grad_fn=<BinaryCrossEntropyBackward0>)\n",
            "34 epoch loss tensor(0.4365, grad_fn=<BinaryCrossEntropyBackward0>)\n",
            "35 epoch loss tensor(0.4360, grad_fn=<BinaryCrossEntropyBackward0>)\n",
            "36 epoch loss tensor(0.4354, grad_fn=<BinaryCrossEntropyBackward0>)\n",
            "37 epoch loss tensor(0.4349, grad_fn=<BinaryCrossEntropyBackward0>)\n",
            "38 epoch loss tensor(0.4343, grad_fn=<BinaryCrossEntropyBackward0>)\n",
            "39 epoch loss tensor(0.4338, grad_fn=<BinaryCrossEntropyBackward0>)\n",
            "40 epoch loss tensor(0.4332, grad_fn=<BinaryCrossEntropyBackward0>)\n",
            "41 epoch loss tensor(0.4327, grad_fn=<BinaryCrossEntropyBackward0>)\n",
            "42 epoch loss tensor(0.4321, grad_fn=<BinaryCrossEntropyBackward0>)\n",
            "43 epoch loss tensor(0.4316, grad_fn=<BinaryCrossEntropyBackward0>)\n",
            "44 epoch loss tensor(0.4311, grad_fn=<BinaryCrossEntropyBackward0>)\n",
            "45 epoch loss tensor(0.4305, grad_fn=<BinaryCrossEntropyBackward0>)\n",
            "46 epoch loss tensor(0.4300, grad_fn=<BinaryCrossEntropyBackward0>)\n",
            "47 epoch loss tensor(0.4294, grad_fn=<BinaryCrossEntropyBackward0>)\n",
            "48 epoch loss tensor(0.4289, grad_fn=<BinaryCrossEntropyBackward0>)\n",
            "49 epoch loss tensor(0.4284, grad_fn=<BinaryCrossEntropyBackward0>)\n",
            "50 epoch loss tensor(0.4278, grad_fn=<BinaryCrossEntropyBackward0>)\n",
            "51 epoch loss tensor(0.4273, grad_fn=<BinaryCrossEntropyBackward0>)\n",
            "52 epoch loss tensor(0.4268, grad_fn=<BinaryCrossEntropyBackward0>)\n",
            "53 epoch loss tensor(0.4262, grad_fn=<BinaryCrossEntropyBackward0>)\n",
            "54 epoch loss tensor(0.4257, grad_fn=<BinaryCrossEntropyBackward0>)\n",
            "55 epoch loss tensor(0.4252, grad_fn=<BinaryCrossEntropyBackward0>)\n",
            "56 epoch loss tensor(0.4247, grad_fn=<BinaryCrossEntropyBackward0>)\n",
            "57 epoch loss tensor(0.4241, grad_fn=<BinaryCrossEntropyBackward0>)\n",
            "58 epoch loss tensor(0.4236, grad_fn=<BinaryCrossEntropyBackward0>)\n",
            "59 epoch loss tensor(0.4231, grad_fn=<BinaryCrossEntropyBackward0>)\n",
            "60 epoch loss tensor(0.4226, grad_fn=<BinaryCrossEntropyBackward0>)\n",
            "61 epoch loss tensor(0.4221, grad_fn=<BinaryCrossEntropyBackward0>)\n",
            "62 epoch loss tensor(0.4215, grad_fn=<BinaryCrossEntropyBackward0>)\n",
            "63 epoch loss tensor(0.4210, grad_fn=<BinaryCrossEntropyBackward0>)\n",
            "64 epoch loss tensor(0.4205, grad_fn=<BinaryCrossEntropyBackward0>)\n",
            "65 epoch loss tensor(0.4200, grad_fn=<BinaryCrossEntropyBackward0>)\n",
            "66 epoch loss tensor(0.4195, grad_fn=<BinaryCrossEntropyBackward0>)\n",
            "67 epoch loss tensor(0.4190, grad_fn=<BinaryCrossEntropyBackward0>)\n",
            "68 epoch loss tensor(0.4185, grad_fn=<BinaryCrossEntropyBackward0>)\n",
            "69 epoch loss tensor(0.4180, grad_fn=<BinaryCrossEntropyBackward0>)\n",
            "70 epoch loss tensor(0.4174, grad_fn=<BinaryCrossEntropyBackward0>)\n",
            "71 epoch loss tensor(0.4169, grad_fn=<BinaryCrossEntropyBackward0>)\n",
            "72 epoch loss tensor(0.4164, grad_fn=<BinaryCrossEntropyBackward0>)\n",
            "73 epoch loss tensor(0.4159, grad_fn=<BinaryCrossEntropyBackward0>)\n",
            "74 epoch loss tensor(0.4154, grad_fn=<BinaryCrossEntropyBackward0>)\n",
            "75 epoch loss tensor(0.4149, grad_fn=<BinaryCrossEntropyBackward0>)\n",
            "76 epoch loss tensor(0.4144, grad_fn=<BinaryCrossEntropyBackward0>)\n",
            "77 epoch loss tensor(0.4139, grad_fn=<BinaryCrossEntropyBackward0>)\n",
            "78 epoch loss tensor(0.4134, grad_fn=<BinaryCrossEntropyBackward0>)\n",
            "79 epoch loss tensor(0.4129, grad_fn=<BinaryCrossEntropyBackward0>)\n",
            "80 epoch loss tensor(0.4124, grad_fn=<BinaryCrossEntropyBackward0>)\n",
            "81 epoch loss tensor(0.4120, grad_fn=<BinaryCrossEntropyBackward0>)\n",
            "82 epoch loss tensor(0.4115, grad_fn=<BinaryCrossEntropyBackward0>)\n",
            "83 epoch loss tensor(0.4110, grad_fn=<BinaryCrossEntropyBackward0>)\n",
            "84 epoch loss tensor(0.4105, grad_fn=<BinaryCrossEntropyBackward0>)\n",
            "85 epoch loss tensor(0.4100, grad_fn=<BinaryCrossEntropyBackward0>)\n",
            "86 epoch loss tensor(0.4095, grad_fn=<BinaryCrossEntropyBackward0>)\n",
            "87 epoch loss tensor(0.4090, grad_fn=<BinaryCrossEntropyBackward0>)\n",
            "88 epoch loss tensor(0.4085, grad_fn=<BinaryCrossEntropyBackward0>)\n",
            "89 epoch loss tensor(0.4080, grad_fn=<BinaryCrossEntropyBackward0>)\n",
            "90 epoch loss tensor(0.4076, grad_fn=<BinaryCrossEntropyBackward0>)\n",
            "91 epoch loss tensor(0.4071, grad_fn=<BinaryCrossEntropyBackward0>)\n",
            "92 epoch loss tensor(0.4066, grad_fn=<BinaryCrossEntropyBackward0>)\n",
            "93 epoch loss tensor(0.4061, grad_fn=<BinaryCrossEntropyBackward0>)\n",
            "94 epoch loss tensor(0.4056, grad_fn=<BinaryCrossEntropyBackward0>)\n",
            "95 epoch loss tensor(0.4052, grad_fn=<BinaryCrossEntropyBackward0>)\n",
            "96 epoch loss tensor(0.4047, grad_fn=<BinaryCrossEntropyBackward0>)\n",
            "97 epoch loss tensor(0.4042, grad_fn=<BinaryCrossEntropyBackward0>)\n",
            "98 epoch loss tensor(0.4037, grad_fn=<BinaryCrossEntropyBackward0>)\n",
            "99 epoch loss tensor(0.4033, grad_fn=<BinaryCrossEntropyBackward0>)\n",
            "100 epoch loss tensor(0.4028, grad_fn=<BinaryCrossEntropyBackward0>)\n",
            "101 epoch loss tensor(0.4023, grad_fn=<BinaryCrossEntropyBackward0>)\n",
            "102 epoch loss tensor(0.4019, grad_fn=<BinaryCrossEntropyBackward0>)\n",
            "103 epoch loss tensor(0.4014, grad_fn=<BinaryCrossEntropyBackward0>)\n",
            "104 epoch loss tensor(0.4009, grad_fn=<BinaryCrossEntropyBackward0>)\n",
            "105 epoch loss tensor(0.4005, grad_fn=<BinaryCrossEntropyBackward0>)\n",
            "106 epoch loss tensor(0.4000, grad_fn=<BinaryCrossEntropyBackward0>)\n",
            "107 epoch loss tensor(0.3995, grad_fn=<BinaryCrossEntropyBackward0>)\n",
            "108 epoch loss tensor(0.3991, grad_fn=<BinaryCrossEntropyBackward0>)\n",
            "109 epoch loss tensor(0.3986, grad_fn=<BinaryCrossEntropyBackward0>)\n",
            "110 epoch loss tensor(0.3982, grad_fn=<BinaryCrossEntropyBackward0>)\n",
            "111 epoch loss tensor(0.3977, grad_fn=<BinaryCrossEntropyBackward0>)\n",
            "112 epoch loss tensor(0.3972, grad_fn=<BinaryCrossEntropyBackward0>)\n",
            "113 epoch loss tensor(0.3968, grad_fn=<BinaryCrossEntropyBackward0>)\n",
            "114 epoch loss tensor(0.3963, grad_fn=<BinaryCrossEntropyBackward0>)\n",
            "115 epoch loss tensor(0.3959, grad_fn=<BinaryCrossEntropyBackward0>)\n",
            "116 epoch loss tensor(0.3954, grad_fn=<BinaryCrossEntropyBackward0>)\n",
            "117 epoch loss tensor(0.3950, grad_fn=<BinaryCrossEntropyBackward0>)\n",
            "118 epoch loss tensor(0.3945, grad_fn=<BinaryCrossEntropyBackward0>)\n",
            "119 epoch loss tensor(0.3941, grad_fn=<BinaryCrossEntropyBackward0>)\n",
            "120 epoch loss tensor(0.3936, grad_fn=<BinaryCrossEntropyBackward0>)\n",
            "121 epoch loss tensor(0.3932, grad_fn=<BinaryCrossEntropyBackward0>)\n",
            "122 epoch loss tensor(0.3927, grad_fn=<BinaryCrossEntropyBackward0>)\n",
            "123 epoch loss tensor(0.3923, grad_fn=<BinaryCrossEntropyBackward0>)\n",
            "124 epoch loss tensor(0.3918, grad_fn=<BinaryCrossEntropyBackward0>)\n",
            "125 epoch loss tensor(0.3914, grad_fn=<BinaryCrossEntropyBackward0>)\n",
            "126 epoch loss tensor(0.3909, grad_fn=<BinaryCrossEntropyBackward0>)\n",
            "127 epoch loss tensor(0.3905, grad_fn=<BinaryCrossEntropyBackward0>)\n",
            "128 epoch loss tensor(0.3901, grad_fn=<BinaryCrossEntropyBackward0>)\n",
            "129 epoch loss tensor(0.3896, grad_fn=<BinaryCrossEntropyBackward0>)\n",
            "130 epoch loss tensor(0.3892, grad_fn=<BinaryCrossEntropyBackward0>)\n",
            "131 epoch loss tensor(0.3887, grad_fn=<BinaryCrossEntropyBackward0>)\n",
            "132 epoch loss tensor(0.3883, grad_fn=<BinaryCrossEntropyBackward0>)\n",
            "133 epoch loss tensor(0.3879, grad_fn=<BinaryCrossEntropyBackward0>)\n",
            "134 epoch loss tensor(0.3874, grad_fn=<BinaryCrossEntropyBackward0>)\n",
            "135 epoch loss tensor(0.3870, grad_fn=<BinaryCrossEntropyBackward0>)\n",
            "136 epoch loss tensor(0.3866, grad_fn=<BinaryCrossEntropyBackward0>)\n",
            "137 epoch loss tensor(0.3861, grad_fn=<BinaryCrossEntropyBackward0>)\n",
            "138 epoch loss tensor(0.3857, grad_fn=<BinaryCrossEntropyBackward0>)\n",
            "139 epoch loss tensor(0.3853, grad_fn=<BinaryCrossEntropyBackward0>)\n",
            "140 epoch loss tensor(0.3849, grad_fn=<BinaryCrossEntropyBackward0>)\n",
            "141 epoch loss tensor(0.3844, grad_fn=<BinaryCrossEntropyBackward0>)\n",
            "142 epoch loss tensor(0.3840, grad_fn=<BinaryCrossEntropyBackward0>)\n",
            "143 epoch loss tensor(0.3836, grad_fn=<BinaryCrossEntropyBackward0>)\n",
            "144 epoch loss tensor(0.3832, grad_fn=<BinaryCrossEntropyBackward0>)\n",
            "145 epoch loss tensor(0.3827, grad_fn=<BinaryCrossEntropyBackward0>)\n",
            "146 epoch loss tensor(0.3823, grad_fn=<BinaryCrossEntropyBackward0>)\n",
            "147 epoch loss tensor(0.3819, grad_fn=<BinaryCrossEntropyBackward0>)\n",
            "148 epoch loss tensor(0.3815, grad_fn=<BinaryCrossEntropyBackward0>)\n",
            "149 epoch loss tensor(0.3810, grad_fn=<BinaryCrossEntropyBackward0>)\n",
            "150 epoch loss tensor(0.3806, grad_fn=<BinaryCrossEntropyBackward0>)\n",
            "151 epoch loss tensor(0.3802, grad_fn=<BinaryCrossEntropyBackward0>)\n",
            "152 epoch loss tensor(0.3798, grad_fn=<BinaryCrossEntropyBackward0>)\n",
            "153 epoch loss tensor(0.3794, grad_fn=<BinaryCrossEntropyBackward0>)\n",
            "154 epoch loss tensor(0.3790, grad_fn=<BinaryCrossEntropyBackward0>)\n",
            "155 epoch loss tensor(0.3785, grad_fn=<BinaryCrossEntropyBackward0>)\n",
            "156 epoch loss tensor(0.3781, grad_fn=<BinaryCrossEntropyBackward0>)\n",
            "157 epoch loss tensor(0.3777, grad_fn=<BinaryCrossEntropyBackward0>)\n",
            "158 epoch loss tensor(0.3773, grad_fn=<BinaryCrossEntropyBackward0>)\n",
            "159 epoch loss tensor(0.3769, grad_fn=<BinaryCrossEntropyBackward0>)\n",
            "160 epoch loss tensor(0.3765, grad_fn=<BinaryCrossEntropyBackward0>)\n",
            "161 epoch loss tensor(0.3761, grad_fn=<BinaryCrossEntropyBackward0>)\n",
            "162 epoch loss tensor(0.3757, grad_fn=<BinaryCrossEntropyBackward0>)\n",
            "163 epoch loss tensor(0.3753, grad_fn=<BinaryCrossEntropyBackward0>)\n",
            "164 epoch loss tensor(0.3749, grad_fn=<BinaryCrossEntropyBackward0>)\n",
            "165 epoch loss tensor(0.3745, grad_fn=<BinaryCrossEntropyBackward0>)\n",
            "166 epoch loss tensor(0.3741, grad_fn=<BinaryCrossEntropyBackward0>)\n",
            "167 epoch loss tensor(0.3737, grad_fn=<BinaryCrossEntropyBackward0>)\n",
            "168 epoch loss tensor(0.3733, grad_fn=<BinaryCrossEntropyBackward0>)\n",
            "169 epoch loss tensor(0.3729, grad_fn=<BinaryCrossEntropyBackward0>)\n",
            "170 epoch loss tensor(0.3725, grad_fn=<BinaryCrossEntropyBackward0>)\n",
            "171 epoch loss tensor(0.3721, grad_fn=<BinaryCrossEntropyBackward0>)\n",
            "172 epoch loss tensor(0.3717, grad_fn=<BinaryCrossEntropyBackward0>)\n",
            "173 epoch loss tensor(0.3713, grad_fn=<BinaryCrossEntropyBackward0>)\n",
            "174 epoch loss tensor(0.3709, grad_fn=<BinaryCrossEntropyBackward0>)\n",
            "175 epoch loss tensor(0.3705, grad_fn=<BinaryCrossEntropyBackward0>)\n",
            "176 epoch loss tensor(0.3701, grad_fn=<BinaryCrossEntropyBackward0>)\n",
            "177 epoch loss tensor(0.3697, grad_fn=<BinaryCrossEntropyBackward0>)\n",
            "178 epoch loss tensor(0.3693, grad_fn=<BinaryCrossEntropyBackward0>)\n",
            "179 epoch loss tensor(0.3689, grad_fn=<BinaryCrossEntropyBackward0>)\n",
            "180 epoch loss tensor(0.3685, grad_fn=<BinaryCrossEntropyBackward0>)\n",
            "181 epoch loss tensor(0.3681, grad_fn=<BinaryCrossEntropyBackward0>)\n",
            "182 epoch loss tensor(0.3677, grad_fn=<BinaryCrossEntropyBackward0>)\n",
            "183 epoch loss tensor(0.3673, grad_fn=<BinaryCrossEntropyBackward0>)\n",
            "184 epoch loss tensor(0.3670, grad_fn=<BinaryCrossEntropyBackward0>)\n",
            "185 epoch loss tensor(0.3666, grad_fn=<BinaryCrossEntropyBackward0>)\n",
            "186 epoch loss tensor(0.3662, grad_fn=<BinaryCrossEntropyBackward0>)\n",
            "187 epoch loss tensor(0.3658, grad_fn=<BinaryCrossEntropyBackward0>)\n",
            "188 epoch loss tensor(0.3654, grad_fn=<BinaryCrossEntropyBackward0>)\n",
            "189 epoch loss tensor(0.3650, grad_fn=<BinaryCrossEntropyBackward0>)\n",
            "190 epoch loss tensor(0.3646, grad_fn=<BinaryCrossEntropyBackward0>)\n",
            "191 epoch loss tensor(0.3643, grad_fn=<BinaryCrossEntropyBackward0>)\n",
            "192 epoch loss tensor(0.3639, grad_fn=<BinaryCrossEntropyBackward0>)\n",
            "193 epoch loss tensor(0.3635, grad_fn=<BinaryCrossEntropyBackward0>)\n",
            "194 epoch loss tensor(0.3631, grad_fn=<BinaryCrossEntropyBackward0>)\n",
            "195 epoch loss tensor(0.3628, grad_fn=<BinaryCrossEntropyBackward0>)\n",
            "196 epoch loss tensor(0.3624, grad_fn=<BinaryCrossEntropyBackward0>)\n",
            "197 epoch loss tensor(0.3620, grad_fn=<BinaryCrossEntropyBackward0>)\n",
            "198 epoch loss tensor(0.3616, grad_fn=<BinaryCrossEntropyBackward0>)\n",
            "199 epoch loss tensor(0.3612, grad_fn=<BinaryCrossEntropyBackward0>)\n",
            "200 epoch loss tensor(0.3609, grad_fn=<BinaryCrossEntropyBackward0>)\n",
            "201 epoch loss tensor(0.3605, grad_fn=<BinaryCrossEntropyBackward0>)\n",
            "202 epoch loss tensor(0.3601, grad_fn=<BinaryCrossEntropyBackward0>)\n",
            "203 epoch loss tensor(0.3598, grad_fn=<BinaryCrossEntropyBackward0>)\n",
            "204 epoch loss tensor(0.3594, grad_fn=<BinaryCrossEntropyBackward0>)\n",
            "205 epoch loss tensor(0.3590, grad_fn=<BinaryCrossEntropyBackward0>)\n",
            "206 epoch loss tensor(0.3586, grad_fn=<BinaryCrossEntropyBackward0>)\n",
            "207 epoch loss tensor(0.3583, grad_fn=<BinaryCrossEntropyBackward0>)\n",
            "208 epoch loss tensor(0.3579, grad_fn=<BinaryCrossEntropyBackward0>)\n",
            "209 epoch loss tensor(0.3575, grad_fn=<BinaryCrossEntropyBackward0>)\n",
            "210 epoch loss tensor(0.3572, grad_fn=<BinaryCrossEntropyBackward0>)\n",
            "211 epoch loss tensor(0.3568, grad_fn=<BinaryCrossEntropyBackward0>)\n",
            "212 epoch loss tensor(0.3565, grad_fn=<BinaryCrossEntropyBackward0>)\n",
            "213 epoch loss tensor(0.3561, grad_fn=<BinaryCrossEntropyBackward0>)\n",
            "214 epoch loss tensor(0.3557, grad_fn=<BinaryCrossEntropyBackward0>)\n",
            "215 epoch loss tensor(0.3554, grad_fn=<BinaryCrossEntropyBackward0>)\n",
            "216 epoch loss tensor(0.3550, grad_fn=<BinaryCrossEntropyBackward0>)\n",
            "217 epoch loss tensor(0.3546, grad_fn=<BinaryCrossEntropyBackward0>)\n",
            "218 epoch loss tensor(0.3543, grad_fn=<BinaryCrossEntropyBackward0>)\n",
            "219 epoch loss tensor(0.3539, grad_fn=<BinaryCrossEntropyBackward0>)\n",
            "220 epoch loss tensor(0.3536, grad_fn=<BinaryCrossEntropyBackward0>)\n",
            "221 epoch loss tensor(0.3532, grad_fn=<BinaryCrossEntropyBackward0>)\n",
            "222 epoch loss tensor(0.3529, grad_fn=<BinaryCrossEntropyBackward0>)\n",
            "223 epoch loss tensor(0.3525, grad_fn=<BinaryCrossEntropyBackward0>)\n",
            "224 epoch loss tensor(0.3521, grad_fn=<BinaryCrossEntropyBackward0>)\n",
            "225 epoch loss tensor(0.3518, grad_fn=<BinaryCrossEntropyBackward0>)\n",
            "226 epoch loss tensor(0.3514, grad_fn=<BinaryCrossEntropyBackward0>)\n",
            "227 epoch loss tensor(0.3511, grad_fn=<BinaryCrossEntropyBackward0>)\n",
            "228 epoch loss tensor(0.3507, grad_fn=<BinaryCrossEntropyBackward0>)\n",
            "229 epoch loss tensor(0.3504, grad_fn=<BinaryCrossEntropyBackward0>)\n",
            "230 epoch loss tensor(0.3500, grad_fn=<BinaryCrossEntropyBackward0>)\n",
            "231 epoch loss tensor(0.3497, grad_fn=<BinaryCrossEntropyBackward0>)\n",
            "232 epoch loss tensor(0.3493, grad_fn=<BinaryCrossEntropyBackward0>)\n",
            "233 epoch loss tensor(0.3490, grad_fn=<BinaryCrossEntropyBackward0>)\n",
            "234 epoch loss tensor(0.3486, grad_fn=<BinaryCrossEntropyBackward0>)\n",
            "235 epoch loss tensor(0.3483, grad_fn=<BinaryCrossEntropyBackward0>)\n",
            "236 epoch loss tensor(0.3479, grad_fn=<BinaryCrossEntropyBackward0>)\n",
            "237 epoch loss tensor(0.3476, grad_fn=<BinaryCrossEntropyBackward0>)\n",
            "238 epoch loss tensor(0.3473, grad_fn=<BinaryCrossEntropyBackward0>)\n",
            "239 epoch loss tensor(0.3469, grad_fn=<BinaryCrossEntropyBackward0>)\n",
            "240 epoch loss tensor(0.3466, grad_fn=<BinaryCrossEntropyBackward0>)\n",
            "241 epoch loss tensor(0.3462, grad_fn=<BinaryCrossEntropyBackward0>)\n",
            "242 epoch loss tensor(0.3459, grad_fn=<BinaryCrossEntropyBackward0>)\n",
            "243 epoch loss tensor(0.3456, grad_fn=<BinaryCrossEntropyBackward0>)\n",
            "244 epoch loss tensor(0.3452, grad_fn=<BinaryCrossEntropyBackward0>)\n",
            "245 epoch loss tensor(0.3449, grad_fn=<BinaryCrossEntropyBackward0>)\n",
            "246 epoch loss tensor(0.3445, grad_fn=<BinaryCrossEntropyBackward0>)\n",
            "247 epoch loss tensor(0.3442, grad_fn=<BinaryCrossEntropyBackward0>)\n",
            "248 epoch loss tensor(0.3439, grad_fn=<BinaryCrossEntropyBackward0>)\n",
            "249 epoch loss tensor(0.3435, grad_fn=<BinaryCrossEntropyBackward0>)\n",
            "250 epoch loss tensor(0.3432, grad_fn=<BinaryCrossEntropyBackward0>)\n",
            "251 epoch loss tensor(0.3429, grad_fn=<BinaryCrossEntropyBackward0>)\n",
            "252 epoch loss tensor(0.3425, grad_fn=<BinaryCrossEntropyBackward0>)\n",
            "253 epoch loss tensor(0.3422, grad_fn=<BinaryCrossEntropyBackward0>)\n",
            "254 epoch loss tensor(0.3419, grad_fn=<BinaryCrossEntropyBackward0>)\n",
            "255 epoch loss tensor(0.3415, grad_fn=<BinaryCrossEntropyBackward0>)\n",
            "256 epoch loss tensor(0.3412, grad_fn=<BinaryCrossEntropyBackward0>)\n",
            "257 epoch loss tensor(0.3409, grad_fn=<BinaryCrossEntropyBackward0>)\n",
            "258 epoch loss tensor(0.3405, grad_fn=<BinaryCrossEntropyBackward0>)\n",
            "259 epoch loss tensor(0.3402, grad_fn=<BinaryCrossEntropyBackward0>)\n",
            "260 epoch loss tensor(0.3399, grad_fn=<BinaryCrossEntropyBackward0>)\n",
            "261 epoch loss tensor(0.3395, grad_fn=<BinaryCrossEntropyBackward0>)\n",
            "262 epoch loss tensor(0.3392, grad_fn=<BinaryCrossEntropyBackward0>)\n",
            "263 epoch loss tensor(0.3389, grad_fn=<BinaryCrossEntropyBackward0>)\n",
            "264 epoch loss tensor(0.3386, grad_fn=<BinaryCrossEntropyBackward0>)\n",
            "265 epoch loss tensor(0.3382, grad_fn=<BinaryCrossEntropyBackward0>)\n",
            "266 epoch loss tensor(0.3379, grad_fn=<BinaryCrossEntropyBackward0>)\n",
            "267 epoch loss tensor(0.3376, grad_fn=<BinaryCrossEntropyBackward0>)\n",
            "268 epoch loss tensor(0.3373, grad_fn=<BinaryCrossEntropyBackward0>)\n",
            "269 epoch loss tensor(0.3369, grad_fn=<BinaryCrossEntropyBackward0>)\n",
            "270 epoch loss tensor(0.3366, grad_fn=<BinaryCrossEntropyBackward0>)\n",
            "271 epoch loss tensor(0.3363, grad_fn=<BinaryCrossEntropyBackward0>)\n",
            "272 epoch loss tensor(0.3360, grad_fn=<BinaryCrossEntropyBackward0>)\n",
            "273 epoch loss tensor(0.3357, grad_fn=<BinaryCrossEntropyBackward0>)\n",
            "274 epoch loss tensor(0.3353, grad_fn=<BinaryCrossEntropyBackward0>)\n",
            "275 epoch loss tensor(0.3350, grad_fn=<BinaryCrossEntropyBackward0>)\n",
            "276 epoch loss tensor(0.3347, grad_fn=<BinaryCrossEntropyBackward0>)\n",
            "277 epoch loss tensor(0.3344, grad_fn=<BinaryCrossEntropyBackward0>)\n",
            "278 epoch loss tensor(0.3341, grad_fn=<BinaryCrossEntropyBackward0>)\n",
            "279 epoch loss tensor(0.3338, grad_fn=<BinaryCrossEntropyBackward0>)\n",
            "280 epoch loss tensor(0.3334, grad_fn=<BinaryCrossEntropyBackward0>)\n",
            "281 epoch loss tensor(0.3331, grad_fn=<BinaryCrossEntropyBackward0>)\n",
            "282 epoch loss tensor(0.3328, grad_fn=<BinaryCrossEntropyBackward0>)\n",
            "283 epoch loss tensor(0.3325, grad_fn=<BinaryCrossEntropyBackward0>)\n",
            "284 epoch loss tensor(0.3322, grad_fn=<BinaryCrossEntropyBackward0>)\n",
            "285 epoch loss tensor(0.3319, grad_fn=<BinaryCrossEntropyBackward0>)\n",
            "286 epoch loss tensor(0.3316, grad_fn=<BinaryCrossEntropyBackward0>)\n",
            "287 epoch loss tensor(0.3313, grad_fn=<BinaryCrossEntropyBackward0>)\n",
            "288 epoch loss tensor(0.3309, grad_fn=<BinaryCrossEntropyBackward0>)\n",
            "289 epoch loss tensor(0.3306, grad_fn=<BinaryCrossEntropyBackward0>)\n",
            "290 epoch loss tensor(0.3303, grad_fn=<BinaryCrossEntropyBackward0>)\n",
            "291 epoch loss tensor(0.3300, grad_fn=<BinaryCrossEntropyBackward0>)\n",
            "292 epoch loss tensor(0.3297, grad_fn=<BinaryCrossEntropyBackward0>)\n",
            "293 epoch loss tensor(0.3294, grad_fn=<BinaryCrossEntropyBackward0>)\n",
            "294 epoch loss tensor(0.3291, grad_fn=<BinaryCrossEntropyBackward0>)\n",
            "295 epoch loss tensor(0.3288, grad_fn=<BinaryCrossEntropyBackward0>)\n",
            "296 epoch loss tensor(0.3285, grad_fn=<BinaryCrossEntropyBackward0>)\n",
            "297 epoch loss tensor(0.3282, grad_fn=<BinaryCrossEntropyBackward0>)\n",
            "298 epoch loss tensor(0.3279, grad_fn=<BinaryCrossEntropyBackward0>)\n",
            "299 epoch loss tensor(0.3276, grad_fn=<BinaryCrossEntropyBackward0>)\n",
            "300 epoch loss tensor(0.3273, grad_fn=<BinaryCrossEntropyBackward0>)\n",
            "301 epoch loss tensor(0.3270, grad_fn=<BinaryCrossEntropyBackward0>)\n",
            "302 epoch loss tensor(0.3267, grad_fn=<BinaryCrossEntropyBackward0>)\n",
            "303 epoch loss tensor(0.3264, grad_fn=<BinaryCrossEntropyBackward0>)\n",
            "304 epoch loss tensor(0.3261, grad_fn=<BinaryCrossEntropyBackward0>)\n",
            "305 epoch loss tensor(0.3258, grad_fn=<BinaryCrossEntropyBackward0>)\n",
            "306 epoch loss tensor(0.3255, grad_fn=<BinaryCrossEntropyBackward0>)\n",
            "307 epoch loss tensor(0.3252, grad_fn=<BinaryCrossEntropyBackward0>)\n",
            "308 epoch loss tensor(0.3249, grad_fn=<BinaryCrossEntropyBackward0>)\n",
            "309 epoch loss tensor(0.3246, grad_fn=<BinaryCrossEntropyBackward0>)\n",
            "310 epoch loss tensor(0.3243, grad_fn=<BinaryCrossEntropyBackward0>)\n",
            "311 epoch loss tensor(0.3240, grad_fn=<BinaryCrossEntropyBackward0>)\n",
            "312 epoch loss tensor(0.3237, grad_fn=<BinaryCrossEntropyBackward0>)\n",
            "313 epoch loss tensor(0.3234, grad_fn=<BinaryCrossEntropyBackward0>)\n",
            "314 epoch loss tensor(0.3231, grad_fn=<BinaryCrossEntropyBackward0>)\n",
            "315 epoch loss tensor(0.3228, grad_fn=<BinaryCrossEntropyBackward0>)\n",
            "316 epoch loss tensor(0.3225, grad_fn=<BinaryCrossEntropyBackward0>)\n",
            "317 epoch loss tensor(0.3222, grad_fn=<BinaryCrossEntropyBackward0>)\n",
            "318 epoch loss tensor(0.3219, grad_fn=<BinaryCrossEntropyBackward0>)\n",
            "319 epoch loss tensor(0.3216, grad_fn=<BinaryCrossEntropyBackward0>)\n",
            "320 epoch loss tensor(0.3213, grad_fn=<BinaryCrossEntropyBackward0>)\n",
            "321 epoch loss tensor(0.3211, grad_fn=<BinaryCrossEntropyBackward0>)\n",
            "322 epoch loss tensor(0.3208, grad_fn=<BinaryCrossEntropyBackward0>)\n",
            "323 epoch loss tensor(0.3205, grad_fn=<BinaryCrossEntropyBackward0>)\n",
            "324 epoch loss tensor(0.3202, grad_fn=<BinaryCrossEntropyBackward0>)\n",
            "325 epoch loss tensor(0.3199, grad_fn=<BinaryCrossEntropyBackward0>)\n",
            "326 epoch loss tensor(0.3196, grad_fn=<BinaryCrossEntropyBackward0>)\n",
            "327 epoch loss tensor(0.3193, grad_fn=<BinaryCrossEntropyBackward0>)\n",
            "328 epoch loss tensor(0.3190, grad_fn=<BinaryCrossEntropyBackward0>)\n",
            "329 epoch loss tensor(0.3188, grad_fn=<BinaryCrossEntropyBackward0>)\n",
            "330 epoch loss tensor(0.3185, grad_fn=<BinaryCrossEntropyBackward0>)\n",
            "331 epoch loss tensor(0.3182, grad_fn=<BinaryCrossEntropyBackward0>)\n",
            "332 epoch loss tensor(0.3179, grad_fn=<BinaryCrossEntropyBackward0>)\n",
            "333 epoch loss tensor(0.3176, grad_fn=<BinaryCrossEntropyBackward0>)\n",
            "334 epoch loss tensor(0.3173, grad_fn=<BinaryCrossEntropyBackward0>)\n",
            "335 epoch loss tensor(0.3171, grad_fn=<BinaryCrossEntropyBackward0>)\n",
            "336 epoch loss tensor(0.3168, grad_fn=<BinaryCrossEntropyBackward0>)\n",
            "337 epoch loss tensor(0.3165, grad_fn=<BinaryCrossEntropyBackward0>)\n",
            "338 epoch loss tensor(0.3162, grad_fn=<BinaryCrossEntropyBackward0>)\n",
            "339 epoch loss tensor(0.3159, grad_fn=<BinaryCrossEntropyBackward0>)\n",
            "340 epoch loss tensor(0.3156, grad_fn=<BinaryCrossEntropyBackward0>)\n",
            "341 epoch loss tensor(0.3154, grad_fn=<BinaryCrossEntropyBackward0>)\n",
            "342 epoch loss tensor(0.3151, grad_fn=<BinaryCrossEntropyBackward0>)\n",
            "343 epoch loss tensor(0.3148, grad_fn=<BinaryCrossEntropyBackward0>)\n",
            "344 epoch loss tensor(0.3145, grad_fn=<BinaryCrossEntropyBackward0>)\n",
            "345 epoch loss tensor(0.3143, grad_fn=<BinaryCrossEntropyBackward0>)\n",
            "346 epoch loss tensor(0.3140, grad_fn=<BinaryCrossEntropyBackward0>)\n",
            "347 epoch loss tensor(0.3137, grad_fn=<BinaryCrossEntropyBackward0>)\n",
            "348 epoch loss tensor(0.3134, grad_fn=<BinaryCrossEntropyBackward0>)\n",
            "349 epoch loss tensor(0.3132, grad_fn=<BinaryCrossEntropyBackward0>)\n",
            "350 epoch loss tensor(0.3129, grad_fn=<BinaryCrossEntropyBackward0>)\n",
            "351 epoch loss tensor(0.3126, grad_fn=<BinaryCrossEntropyBackward0>)\n",
            "352 epoch loss tensor(0.3123, grad_fn=<BinaryCrossEntropyBackward0>)\n",
            "353 epoch loss tensor(0.3121, grad_fn=<BinaryCrossEntropyBackward0>)\n",
            "354 epoch loss tensor(0.3118, grad_fn=<BinaryCrossEntropyBackward0>)\n",
            "355 epoch loss tensor(0.3115, grad_fn=<BinaryCrossEntropyBackward0>)\n",
            "356 epoch loss tensor(0.3112, grad_fn=<BinaryCrossEntropyBackward0>)\n",
            "357 epoch loss tensor(0.3110, grad_fn=<BinaryCrossEntropyBackward0>)\n",
            "358 epoch loss tensor(0.3107, grad_fn=<BinaryCrossEntropyBackward0>)\n",
            "359 epoch loss tensor(0.3104, grad_fn=<BinaryCrossEntropyBackward0>)\n",
            "360 epoch loss tensor(0.3102, grad_fn=<BinaryCrossEntropyBackward0>)\n",
            "361 epoch loss tensor(0.3099, grad_fn=<BinaryCrossEntropyBackward0>)\n",
            "362 epoch loss tensor(0.3096, grad_fn=<BinaryCrossEntropyBackward0>)\n",
            "363 epoch loss tensor(0.3094, grad_fn=<BinaryCrossEntropyBackward0>)\n",
            "364 epoch loss tensor(0.3091, grad_fn=<BinaryCrossEntropyBackward0>)\n",
            "365 epoch loss tensor(0.3088, grad_fn=<BinaryCrossEntropyBackward0>)\n",
            "366 epoch loss tensor(0.3086, grad_fn=<BinaryCrossEntropyBackward0>)\n",
            "367 epoch loss tensor(0.3083, grad_fn=<BinaryCrossEntropyBackward0>)\n",
            "368 epoch loss tensor(0.3080, grad_fn=<BinaryCrossEntropyBackward0>)\n",
            "369 epoch loss tensor(0.3078, grad_fn=<BinaryCrossEntropyBackward0>)\n",
            "370 epoch loss tensor(0.3075, grad_fn=<BinaryCrossEntropyBackward0>)\n",
            "371 epoch loss tensor(0.3072, grad_fn=<BinaryCrossEntropyBackward0>)\n",
            "372 epoch loss tensor(0.3070, grad_fn=<BinaryCrossEntropyBackward0>)\n",
            "373 epoch loss tensor(0.3067, grad_fn=<BinaryCrossEntropyBackward0>)\n",
            "374 epoch loss tensor(0.3065, grad_fn=<BinaryCrossEntropyBackward0>)\n",
            "375 epoch loss tensor(0.3062, grad_fn=<BinaryCrossEntropyBackward0>)\n",
            "376 epoch loss tensor(0.3059, grad_fn=<BinaryCrossEntropyBackward0>)\n",
            "377 epoch loss tensor(0.3057, grad_fn=<BinaryCrossEntropyBackward0>)\n",
            "378 epoch loss tensor(0.3054, grad_fn=<BinaryCrossEntropyBackward0>)\n",
            "379 epoch loss tensor(0.3052, grad_fn=<BinaryCrossEntropyBackward0>)\n",
            "380 epoch loss tensor(0.3049, grad_fn=<BinaryCrossEntropyBackward0>)\n",
            "381 epoch loss tensor(0.3046, grad_fn=<BinaryCrossEntropyBackward0>)\n",
            "382 epoch loss tensor(0.3044, grad_fn=<BinaryCrossEntropyBackward0>)\n",
            "383 epoch loss tensor(0.3041, grad_fn=<BinaryCrossEntropyBackward0>)\n",
            "384 epoch loss tensor(0.3039, grad_fn=<BinaryCrossEntropyBackward0>)\n",
            "385 epoch loss tensor(0.3036, grad_fn=<BinaryCrossEntropyBackward0>)\n",
            "386 epoch loss tensor(0.3034, grad_fn=<BinaryCrossEntropyBackward0>)\n",
            "387 epoch loss tensor(0.3031, grad_fn=<BinaryCrossEntropyBackward0>)\n",
            "388 epoch loss tensor(0.3028, grad_fn=<BinaryCrossEntropyBackward0>)\n",
            "389 epoch loss tensor(0.3026, grad_fn=<BinaryCrossEntropyBackward0>)\n",
            "390 epoch loss tensor(0.3023, grad_fn=<BinaryCrossEntropyBackward0>)\n",
            "391 epoch loss tensor(0.3021, grad_fn=<BinaryCrossEntropyBackward0>)\n",
            "392 epoch loss tensor(0.3018, grad_fn=<BinaryCrossEntropyBackward0>)\n",
            "393 epoch loss tensor(0.3016, grad_fn=<BinaryCrossEntropyBackward0>)\n",
            "394 epoch loss tensor(0.3013, grad_fn=<BinaryCrossEntropyBackward0>)\n",
            "395 epoch loss tensor(0.3011, grad_fn=<BinaryCrossEntropyBackward0>)\n",
            "396 epoch loss tensor(0.3008, grad_fn=<BinaryCrossEntropyBackward0>)\n",
            "397 epoch loss tensor(0.3006, grad_fn=<BinaryCrossEntropyBackward0>)\n",
            "398 epoch loss tensor(0.3003, grad_fn=<BinaryCrossEntropyBackward0>)\n",
            "399 epoch loss tensor(0.3001, grad_fn=<BinaryCrossEntropyBackward0>)\n",
            "400 epoch loss tensor(0.2998, grad_fn=<BinaryCrossEntropyBackward0>)\n",
            "401 epoch loss tensor(0.2996, grad_fn=<BinaryCrossEntropyBackward0>)\n",
            "402 epoch loss tensor(0.2993, grad_fn=<BinaryCrossEntropyBackward0>)\n",
            "403 epoch loss tensor(0.2991, grad_fn=<BinaryCrossEntropyBackward0>)\n",
            "404 epoch loss tensor(0.2988, grad_fn=<BinaryCrossEntropyBackward0>)\n",
            "405 epoch loss tensor(0.2986, grad_fn=<BinaryCrossEntropyBackward0>)\n",
            "406 epoch loss tensor(0.2983, grad_fn=<BinaryCrossEntropyBackward0>)\n",
            "407 epoch loss tensor(0.2981, grad_fn=<BinaryCrossEntropyBackward0>)\n",
            "408 epoch loss tensor(0.2978, grad_fn=<BinaryCrossEntropyBackward0>)\n",
            "409 epoch loss tensor(0.2976, grad_fn=<BinaryCrossEntropyBackward0>)\n",
            "410 epoch loss tensor(0.2973, grad_fn=<BinaryCrossEntropyBackward0>)\n",
            "411 epoch loss tensor(0.2971, grad_fn=<BinaryCrossEntropyBackward0>)\n",
            "412 epoch loss tensor(0.2969, grad_fn=<BinaryCrossEntropyBackward0>)\n",
            "413 epoch loss tensor(0.2966, grad_fn=<BinaryCrossEntropyBackward0>)\n",
            "414 epoch loss tensor(0.2964, grad_fn=<BinaryCrossEntropyBackward0>)\n",
            "415 epoch loss tensor(0.2961, grad_fn=<BinaryCrossEntropyBackward0>)\n",
            "416 epoch loss tensor(0.2959, grad_fn=<BinaryCrossEntropyBackward0>)\n",
            "417 epoch loss tensor(0.2956, grad_fn=<BinaryCrossEntropyBackward0>)\n",
            "418 epoch loss tensor(0.2954, grad_fn=<BinaryCrossEntropyBackward0>)\n",
            "419 epoch loss tensor(0.2952, grad_fn=<BinaryCrossEntropyBackward0>)\n",
            "420 epoch loss tensor(0.2949, grad_fn=<BinaryCrossEntropyBackward0>)\n",
            "421 epoch loss tensor(0.2947, grad_fn=<BinaryCrossEntropyBackward0>)\n",
            "422 epoch loss tensor(0.2944, grad_fn=<BinaryCrossEntropyBackward0>)\n",
            "423 epoch loss tensor(0.2942, grad_fn=<BinaryCrossEntropyBackward0>)\n",
            "424 epoch loss tensor(0.2940, grad_fn=<BinaryCrossEntropyBackward0>)\n",
            "425 epoch loss tensor(0.2937, grad_fn=<BinaryCrossEntropyBackward0>)\n",
            "426 epoch loss tensor(0.2935, grad_fn=<BinaryCrossEntropyBackward0>)\n",
            "427 epoch loss tensor(0.2933, grad_fn=<BinaryCrossEntropyBackward0>)\n",
            "428 epoch loss tensor(0.2930, grad_fn=<BinaryCrossEntropyBackward0>)\n",
            "429 epoch loss tensor(0.2928, grad_fn=<BinaryCrossEntropyBackward0>)\n",
            "430 epoch loss tensor(0.2925, grad_fn=<BinaryCrossEntropyBackward0>)\n",
            "431 epoch loss tensor(0.2923, grad_fn=<BinaryCrossEntropyBackward0>)\n",
            "432 epoch loss tensor(0.2921, grad_fn=<BinaryCrossEntropyBackward0>)\n",
            "433 epoch loss tensor(0.2918, grad_fn=<BinaryCrossEntropyBackward0>)\n",
            "434 epoch loss tensor(0.2916, grad_fn=<BinaryCrossEntropyBackward0>)\n",
            "435 epoch loss tensor(0.2914, grad_fn=<BinaryCrossEntropyBackward0>)\n",
            "436 epoch loss tensor(0.2911, grad_fn=<BinaryCrossEntropyBackward0>)\n",
            "437 epoch loss tensor(0.2909, grad_fn=<BinaryCrossEntropyBackward0>)\n",
            "438 epoch loss tensor(0.2907, grad_fn=<BinaryCrossEntropyBackward0>)\n",
            "439 epoch loss tensor(0.2904, grad_fn=<BinaryCrossEntropyBackward0>)\n",
            "440 epoch loss tensor(0.2902, grad_fn=<BinaryCrossEntropyBackward0>)\n",
            "441 epoch loss tensor(0.2900, grad_fn=<BinaryCrossEntropyBackward0>)\n",
            "442 epoch loss tensor(0.2897, grad_fn=<BinaryCrossEntropyBackward0>)\n",
            "443 epoch loss tensor(0.2895, grad_fn=<BinaryCrossEntropyBackward0>)\n",
            "444 epoch loss tensor(0.2893, grad_fn=<BinaryCrossEntropyBackward0>)\n",
            "445 epoch loss tensor(0.2890, grad_fn=<BinaryCrossEntropyBackward0>)\n",
            "446 epoch loss tensor(0.2888, grad_fn=<BinaryCrossEntropyBackward0>)\n",
            "447 epoch loss tensor(0.2886, grad_fn=<BinaryCrossEntropyBackward0>)\n",
            "448 epoch loss tensor(0.2884, grad_fn=<BinaryCrossEntropyBackward0>)\n",
            "449 epoch loss tensor(0.2881, grad_fn=<BinaryCrossEntropyBackward0>)\n",
            "450 epoch loss tensor(0.2879, grad_fn=<BinaryCrossEntropyBackward0>)\n",
            "451 epoch loss tensor(0.2877, grad_fn=<BinaryCrossEntropyBackward0>)\n",
            "452 epoch loss tensor(0.2874, grad_fn=<BinaryCrossEntropyBackward0>)\n",
            "453 epoch loss tensor(0.2872, grad_fn=<BinaryCrossEntropyBackward0>)\n",
            "454 epoch loss tensor(0.2870, grad_fn=<BinaryCrossEntropyBackward0>)\n",
            "455 epoch loss tensor(0.2868, grad_fn=<BinaryCrossEntropyBackward0>)\n",
            "456 epoch loss tensor(0.2865, grad_fn=<BinaryCrossEntropyBackward0>)\n",
            "457 epoch loss tensor(0.2863, grad_fn=<BinaryCrossEntropyBackward0>)\n",
            "458 epoch loss tensor(0.2861, grad_fn=<BinaryCrossEntropyBackward0>)\n",
            "459 epoch loss tensor(0.2859, grad_fn=<BinaryCrossEntropyBackward0>)\n",
            "460 epoch loss tensor(0.2856, grad_fn=<BinaryCrossEntropyBackward0>)\n",
            "461 epoch loss tensor(0.2854, grad_fn=<BinaryCrossEntropyBackward0>)\n",
            "462 epoch loss tensor(0.2852, grad_fn=<BinaryCrossEntropyBackward0>)\n",
            "463 epoch loss tensor(0.2850, grad_fn=<BinaryCrossEntropyBackward0>)\n",
            "464 epoch loss tensor(0.2848, grad_fn=<BinaryCrossEntropyBackward0>)\n",
            "465 epoch loss tensor(0.2845, grad_fn=<BinaryCrossEntropyBackward0>)\n",
            "466 epoch loss tensor(0.2843, grad_fn=<BinaryCrossEntropyBackward0>)\n",
            "467 epoch loss tensor(0.2841, grad_fn=<BinaryCrossEntropyBackward0>)\n",
            "468 epoch loss tensor(0.2839, grad_fn=<BinaryCrossEntropyBackward0>)\n",
            "469 epoch loss tensor(0.2836, grad_fn=<BinaryCrossEntropyBackward0>)\n",
            "470 epoch loss tensor(0.2834, grad_fn=<BinaryCrossEntropyBackward0>)\n",
            "471 epoch loss tensor(0.2832, grad_fn=<BinaryCrossEntropyBackward0>)\n",
            "472 epoch loss tensor(0.2830, grad_fn=<BinaryCrossEntropyBackward0>)\n",
            "473 epoch loss tensor(0.2828, grad_fn=<BinaryCrossEntropyBackward0>)\n",
            "474 epoch loss tensor(0.2826, grad_fn=<BinaryCrossEntropyBackward0>)\n",
            "475 epoch loss tensor(0.2823, grad_fn=<BinaryCrossEntropyBackward0>)\n",
            "476 epoch loss tensor(0.2821, grad_fn=<BinaryCrossEntropyBackward0>)\n",
            "477 epoch loss tensor(0.2819, grad_fn=<BinaryCrossEntropyBackward0>)\n",
            "478 epoch loss tensor(0.2817, grad_fn=<BinaryCrossEntropyBackward0>)\n",
            "479 epoch loss tensor(0.2815, grad_fn=<BinaryCrossEntropyBackward0>)\n",
            "480 epoch loss tensor(0.2812, grad_fn=<BinaryCrossEntropyBackward0>)\n",
            "481 epoch loss tensor(0.2810, grad_fn=<BinaryCrossEntropyBackward0>)\n",
            "482 epoch loss tensor(0.2808, grad_fn=<BinaryCrossEntropyBackward0>)\n",
            "483 epoch loss tensor(0.2806, grad_fn=<BinaryCrossEntropyBackward0>)\n",
            "484 epoch loss tensor(0.2804, grad_fn=<BinaryCrossEntropyBackward0>)\n",
            "485 epoch loss tensor(0.2802, grad_fn=<BinaryCrossEntropyBackward0>)\n",
            "486 epoch loss tensor(0.2800, grad_fn=<BinaryCrossEntropyBackward0>)\n",
            "487 epoch loss tensor(0.2797, grad_fn=<BinaryCrossEntropyBackward0>)\n",
            "488 epoch loss tensor(0.2795, grad_fn=<BinaryCrossEntropyBackward0>)\n",
            "489 epoch loss tensor(0.2793, grad_fn=<BinaryCrossEntropyBackward0>)\n",
            "490 epoch loss tensor(0.2791, grad_fn=<BinaryCrossEntropyBackward0>)\n",
            "491 epoch loss tensor(0.2789, grad_fn=<BinaryCrossEntropyBackward0>)\n",
            "492 epoch loss tensor(0.2787, grad_fn=<BinaryCrossEntropyBackward0>)\n",
            "493 epoch loss tensor(0.2785, grad_fn=<BinaryCrossEntropyBackward0>)\n",
            "494 epoch loss tensor(0.2783, grad_fn=<BinaryCrossEntropyBackward0>)\n",
            "495 epoch loss tensor(0.2780, grad_fn=<BinaryCrossEntropyBackward0>)\n",
            "496 epoch loss tensor(0.2778, grad_fn=<BinaryCrossEntropyBackward0>)\n",
            "497 epoch loss tensor(0.2776, grad_fn=<BinaryCrossEntropyBackward0>)\n",
            "498 epoch loss tensor(0.2774, grad_fn=<BinaryCrossEntropyBackward0>)\n",
            "499 epoch loss tensor(0.2772, grad_fn=<BinaryCrossEntropyBackward0>)\n",
            "500 epoch loss tensor(0.2770, grad_fn=<BinaryCrossEntropyBackward0>)\n",
            "501 epoch loss tensor(0.2768, grad_fn=<BinaryCrossEntropyBackward0>)\n",
            "502 epoch loss tensor(0.2766, grad_fn=<BinaryCrossEntropyBackward0>)\n",
            "503 epoch loss tensor(0.2764, grad_fn=<BinaryCrossEntropyBackward0>)\n",
            "504 epoch loss tensor(0.2762, grad_fn=<BinaryCrossEntropyBackward0>)\n",
            "505 epoch loss tensor(0.2760, grad_fn=<BinaryCrossEntropyBackward0>)\n",
            "506 epoch loss tensor(0.2758, grad_fn=<BinaryCrossEntropyBackward0>)\n",
            "507 epoch loss tensor(0.2755, grad_fn=<BinaryCrossEntropyBackward0>)\n",
            "508 epoch loss tensor(0.2753, grad_fn=<BinaryCrossEntropyBackward0>)\n",
            "509 epoch loss tensor(0.2751, grad_fn=<BinaryCrossEntropyBackward0>)\n",
            "510 epoch loss tensor(0.2749, grad_fn=<BinaryCrossEntropyBackward0>)\n",
            "511 epoch loss tensor(0.2747, grad_fn=<BinaryCrossEntropyBackward0>)\n",
            "512 epoch loss tensor(0.2745, grad_fn=<BinaryCrossEntropyBackward0>)\n",
            "513 epoch loss tensor(0.2743, grad_fn=<BinaryCrossEntropyBackward0>)\n",
            "514 epoch loss tensor(0.2741, grad_fn=<BinaryCrossEntropyBackward0>)\n",
            "515 epoch loss tensor(0.2739, grad_fn=<BinaryCrossEntropyBackward0>)\n",
            "516 epoch loss tensor(0.2737, grad_fn=<BinaryCrossEntropyBackward0>)\n",
            "517 epoch loss tensor(0.2735, grad_fn=<BinaryCrossEntropyBackward0>)\n",
            "518 epoch loss tensor(0.2733, grad_fn=<BinaryCrossEntropyBackward0>)\n",
            "519 epoch loss tensor(0.2731, grad_fn=<BinaryCrossEntropyBackward0>)\n",
            "520 epoch loss tensor(0.2729, grad_fn=<BinaryCrossEntropyBackward0>)\n",
            "521 epoch loss tensor(0.2727, grad_fn=<BinaryCrossEntropyBackward0>)\n",
            "522 epoch loss tensor(0.2725, grad_fn=<BinaryCrossEntropyBackward0>)\n",
            "523 epoch loss tensor(0.2723, grad_fn=<BinaryCrossEntropyBackward0>)\n",
            "524 epoch loss tensor(0.2721, grad_fn=<BinaryCrossEntropyBackward0>)\n",
            "525 epoch loss tensor(0.2719, grad_fn=<BinaryCrossEntropyBackward0>)\n",
            "526 epoch loss tensor(0.2717, grad_fn=<BinaryCrossEntropyBackward0>)\n",
            "527 epoch loss tensor(0.2715, grad_fn=<BinaryCrossEntropyBackward0>)\n",
            "528 epoch loss tensor(0.2713, grad_fn=<BinaryCrossEntropyBackward0>)\n",
            "529 epoch loss tensor(0.2711, grad_fn=<BinaryCrossEntropyBackward0>)\n",
            "530 epoch loss tensor(0.2709, grad_fn=<BinaryCrossEntropyBackward0>)\n",
            "531 epoch loss tensor(0.2707, grad_fn=<BinaryCrossEntropyBackward0>)\n",
            "532 epoch loss tensor(0.2705, grad_fn=<BinaryCrossEntropyBackward0>)\n",
            "533 epoch loss tensor(0.2703, grad_fn=<BinaryCrossEntropyBackward0>)\n",
            "534 epoch loss tensor(0.2701, grad_fn=<BinaryCrossEntropyBackward0>)\n",
            "535 epoch loss tensor(0.2699, grad_fn=<BinaryCrossEntropyBackward0>)\n",
            "536 epoch loss tensor(0.2697, grad_fn=<BinaryCrossEntropyBackward0>)\n",
            "537 epoch loss tensor(0.2695, grad_fn=<BinaryCrossEntropyBackward0>)\n",
            "538 epoch loss tensor(0.2693, grad_fn=<BinaryCrossEntropyBackward0>)\n",
            "539 epoch loss tensor(0.2691, grad_fn=<BinaryCrossEntropyBackward0>)\n",
            "540 epoch loss tensor(0.2689, grad_fn=<BinaryCrossEntropyBackward0>)\n",
            "541 epoch loss tensor(0.2687, grad_fn=<BinaryCrossEntropyBackward0>)\n",
            "542 epoch loss tensor(0.2685, grad_fn=<BinaryCrossEntropyBackward0>)\n",
            "543 epoch loss tensor(0.2683, grad_fn=<BinaryCrossEntropyBackward0>)\n",
            "544 epoch loss tensor(0.2681, grad_fn=<BinaryCrossEntropyBackward0>)\n",
            "545 epoch loss tensor(0.2679, grad_fn=<BinaryCrossEntropyBackward0>)\n",
            "546 epoch loss tensor(0.2678, grad_fn=<BinaryCrossEntropyBackward0>)\n",
            "547 epoch loss tensor(0.2676, grad_fn=<BinaryCrossEntropyBackward0>)\n",
            "548 epoch loss tensor(0.2674, grad_fn=<BinaryCrossEntropyBackward0>)\n",
            "549 epoch loss tensor(0.2672, grad_fn=<BinaryCrossEntropyBackward0>)\n",
            "550 epoch loss tensor(0.2670, grad_fn=<BinaryCrossEntropyBackward0>)\n",
            "551 epoch loss tensor(0.2668, grad_fn=<BinaryCrossEntropyBackward0>)\n",
            "552 epoch loss tensor(0.2666, grad_fn=<BinaryCrossEntropyBackward0>)\n",
            "553 epoch loss tensor(0.2664, grad_fn=<BinaryCrossEntropyBackward0>)\n",
            "554 epoch loss tensor(0.2662, grad_fn=<BinaryCrossEntropyBackward0>)\n",
            "555 epoch loss tensor(0.2660, grad_fn=<BinaryCrossEntropyBackward0>)\n",
            "556 epoch loss tensor(0.2658, grad_fn=<BinaryCrossEntropyBackward0>)\n",
            "557 epoch loss tensor(0.2656, grad_fn=<BinaryCrossEntropyBackward0>)\n",
            "558 epoch loss tensor(0.2655, grad_fn=<BinaryCrossEntropyBackward0>)\n",
            "559 epoch loss tensor(0.2653, grad_fn=<BinaryCrossEntropyBackward0>)\n",
            "560 epoch loss tensor(0.2651, grad_fn=<BinaryCrossEntropyBackward0>)\n",
            "561 epoch loss tensor(0.2649, grad_fn=<BinaryCrossEntropyBackward0>)\n",
            "562 epoch loss tensor(0.2647, grad_fn=<BinaryCrossEntropyBackward0>)\n",
            "563 epoch loss tensor(0.2645, grad_fn=<BinaryCrossEntropyBackward0>)\n",
            "564 epoch loss tensor(0.2643, grad_fn=<BinaryCrossEntropyBackward0>)\n",
            "565 epoch loss tensor(0.2641, grad_fn=<BinaryCrossEntropyBackward0>)\n",
            "566 epoch loss tensor(0.2639, grad_fn=<BinaryCrossEntropyBackward0>)\n",
            "567 epoch loss tensor(0.2638, grad_fn=<BinaryCrossEntropyBackward0>)\n",
            "568 epoch loss tensor(0.2636, grad_fn=<BinaryCrossEntropyBackward0>)\n",
            "569 epoch loss tensor(0.2634, grad_fn=<BinaryCrossEntropyBackward0>)\n",
            "570 epoch loss tensor(0.2632, grad_fn=<BinaryCrossEntropyBackward0>)\n",
            "571 epoch loss tensor(0.2630, grad_fn=<BinaryCrossEntropyBackward0>)\n",
            "572 epoch loss tensor(0.2628, grad_fn=<BinaryCrossEntropyBackward0>)\n",
            "573 epoch loss tensor(0.2626, grad_fn=<BinaryCrossEntropyBackward0>)\n",
            "574 epoch loss tensor(0.2625, grad_fn=<BinaryCrossEntropyBackward0>)\n",
            "575 epoch loss tensor(0.2623, grad_fn=<BinaryCrossEntropyBackward0>)\n",
            "576 epoch loss tensor(0.2621, grad_fn=<BinaryCrossEntropyBackward0>)\n",
            "577 epoch loss tensor(0.2619, grad_fn=<BinaryCrossEntropyBackward0>)\n",
            "578 epoch loss tensor(0.2617, grad_fn=<BinaryCrossEntropyBackward0>)\n",
            "579 epoch loss tensor(0.2615, grad_fn=<BinaryCrossEntropyBackward0>)\n",
            "580 epoch loss tensor(0.2614, grad_fn=<BinaryCrossEntropyBackward0>)\n",
            "581 epoch loss tensor(0.2612, grad_fn=<BinaryCrossEntropyBackward0>)\n",
            "582 epoch loss tensor(0.2610, grad_fn=<BinaryCrossEntropyBackward0>)\n",
            "583 epoch loss tensor(0.2608, grad_fn=<BinaryCrossEntropyBackward0>)\n",
            "584 epoch loss tensor(0.2606, grad_fn=<BinaryCrossEntropyBackward0>)\n",
            "585 epoch loss tensor(0.2604, grad_fn=<BinaryCrossEntropyBackward0>)\n",
            "586 epoch loss tensor(0.2603, grad_fn=<BinaryCrossEntropyBackward0>)\n",
            "587 epoch loss tensor(0.2601, grad_fn=<BinaryCrossEntropyBackward0>)\n",
            "588 epoch loss tensor(0.2599, grad_fn=<BinaryCrossEntropyBackward0>)\n",
            "589 epoch loss tensor(0.2597, grad_fn=<BinaryCrossEntropyBackward0>)\n",
            "590 epoch loss tensor(0.2595, grad_fn=<BinaryCrossEntropyBackward0>)\n",
            "591 epoch loss tensor(0.2594, grad_fn=<BinaryCrossEntropyBackward0>)\n",
            "592 epoch loss tensor(0.2592, grad_fn=<BinaryCrossEntropyBackward0>)\n",
            "593 epoch loss tensor(0.2590, grad_fn=<BinaryCrossEntropyBackward0>)\n",
            "594 epoch loss tensor(0.2588, grad_fn=<BinaryCrossEntropyBackward0>)\n",
            "595 epoch loss tensor(0.2586, grad_fn=<BinaryCrossEntropyBackward0>)\n",
            "596 epoch loss tensor(0.2585, grad_fn=<BinaryCrossEntropyBackward0>)\n",
            "597 epoch loss tensor(0.2583, grad_fn=<BinaryCrossEntropyBackward0>)\n",
            "598 epoch loss tensor(0.2581, grad_fn=<BinaryCrossEntropyBackward0>)\n",
            "599 epoch loss tensor(0.2579, grad_fn=<BinaryCrossEntropyBackward0>)\n",
            "600 epoch loss tensor(0.2577, grad_fn=<BinaryCrossEntropyBackward0>)\n",
            "601 epoch loss tensor(0.2576, grad_fn=<BinaryCrossEntropyBackward0>)\n",
            "602 epoch loss tensor(0.2574, grad_fn=<BinaryCrossEntropyBackward0>)\n",
            "603 epoch loss tensor(0.2572, grad_fn=<BinaryCrossEntropyBackward0>)\n",
            "604 epoch loss tensor(0.2570, grad_fn=<BinaryCrossEntropyBackward0>)\n",
            "605 epoch loss tensor(0.2569, grad_fn=<BinaryCrossEntropyBackward0>)\n",
            "606 epoch loss tensor(0.2567, grad_fn=<BinaryCrossEntropyBackward0>)\n",
            "607 epoch loss tensor(0.2565, grad_fn=<BinaryCrossEntropyBackward0>)\n",
            "608 epoch loss tensor(0.2563, grad_fn=<BinaryCrossEntropyBackward0>)\n",
            "609 epoch loss tensor(0.2562, grad_fn=<BinaryCrossEntropyBackward0>)\n",
            "610 epoch loss tensor(0.2560, grad_fn=<BinaryCrossEntropyBackward0>)\n",
            "611 epoch loss tensor(0.2558, grad_fn=<BinaryCrossEntropyBackward0>)\n",
            "612 epoch loss tensor(0.2556, grad_fn=<BinaryCrossEntropyBackward0>)\n",
            "613 epoch loss tensor(0.2555, grad_fn=<BinaryCrossEntropyBackward0>)\n",
            "614 epoch loss tensor(0.2553, grad_fn=<BinaryCrossEntropyBackward0>)\n",
            "615 epoch loss tensor(0.2551, grad_fn=<BinaryCrossEntropyBackward0>)\n",
            "616 epoch loss tensor(0.2549, grad_fn=<BinaryCrossEntropyBackward0>)\n",
            "617 epoch loss tensor(0.2548, grad_fn=<BinaryCrossEntropyBackward0>)\n",
            "618 epoch loss tensor(0.2546, grad_fn=<BinaryCrossEntropyBackward0>)\n",
            "619 epoch loss tensor(0.2544, grad_fn=<BinaryCrossEntropyBackward0>)\n",
            "620 epoch loss tensor(0.2543, grad_fn=<BinaryCrossEntropyBackward0>)\n",
            "621 epoch loss tensor(0.2541, grad_fn=<BinaryCrossEntropyBackward0>)\n",
            "622 epoch loss tensor(0.2539, grad_fn=<BinaryCrossEntropyBackward0>)\n",
            "623 epoch loss tensor(0.2537, grad_fn=<BinaryCrossEntropyBackward0>)\n",
            "624 epoch loss tensor(0.2536, grad_fn=<BinaryCrossEntropyBackward0>)\n",
            "625 epoch loss tensor(0.2534, grad_fn=<BinaryCrossEntropyBackward0>)\n",
            "626 epoch loss tensor(0.2532, grad_fn=<BinaryCrossEntropyBackward0>)\n",
            "627 epoch loss tensor(0.2531, grad_fn=<BinaryCrossEntropyBackward0>)\n",
            "628 epoch loss tensor(0.2529, grad_fn=<BinaryCrossEntropyBackward0>)\n",
            "629 epoch loss tensor(0.2527, grad_fn=<BinaryCrossEntropyBackward0>)\n",
            "630 epoch loss tensor(0.2525, grad_fn=<BinaryCrossEntropyBackward0>)\n",
            "631 epoch loss tensor(0.2524, grad_fn=<BinaryCrossEntropyBackward0>)\n",
            "632 epoch loss tensor(0.2522, grad_fn=<BinaryCrossEntropyBackward0>)\n",
            "633 epoch loss tensor(0.2520, grad_fn=<BinaryCrossEntropyBackward0>)\n",
            "634 epoch loss tensor(0.2519, grad_fn=<BinaryCrossEntropyBackward0>)\n",
            "635 epoch loss tensor(0.2517, grad_fn=<BinaryCrossEntropyBackward0>)\n",
            "636 epoch loss tensor(0.2515, grad_fn=<BinaryCrossEntropyBackward0>)\n",
            "637 epoch loss tensor(0.2514, grad_fn=<BinaryCrossEntropyBackward0>)\n",
            "638 epoch loss tensor(0.2512, grad_fn=<BinaryCrossEntropyBackward0>)\n",
            "639 epoch loss tensor(0.2510, grad_fn=<BinaryCrossEntropyBackward0>)\n",
            "640 epoch loss tensor(0.2509, grad_fn=<BinaryCrossEntropyBackward0>)\n",
            "641 epoch loss tensor(0.2507, grad_fn=<BinaryCrossEntropyBackward0>)\n",
            "642 epoch loss tensor(0.2505, grad_fn=<BinaryCrossEntropyBackward0>)\n",
            "643 epoch loss tensor(0.2504, grad_fn=<BinaryCrossEntropyBackward0>)\n",
            "644 epoch loss tensor(0.2502, grad_fn=<BinaryCrossEntropyBackward0>)\n",
            "645 epoch loss tensor(0.2500, grad_fn=<BinaryCrossEntropyBackward0>)\n",
            "646 epoch loss tensor(0.2499, grad_fn=<BinaryCrossEntropyBackward0>)\n",
            "647 epoch loss tensor(0.2497, grad_fn=<BinaryCrossEntropyBackward0>)\n",
            "648 epoch loss tensor(0.2495, grad_fn=<BinaryCrossEntropyBackward0>)\n",
            "649 epoch loss tensor(0.2494, grad_fn=<BinaryCrossEntropyBackward0>)\n",
            "650 epoch loss tensor(0.2492, grad_fn=<BinaryCrossEntropyBackward0>)\n",
            "651 epoch loss tensor(0.2490, grad_fn=<BinaryCrossEntropyBackward0>)\n",
            "652 epoch loss tensor(0.2489, grad_fn=<BinaryCrossEntropyBackward0>)\n",
            "653 epoch loss tensor(0.2487, grad_fn=<BinaryCrossEntropyBackward0>)\n",
            "654 epoch loss tensor(0.2486, grad_fn=<BinaryCrossEntropyBackward0>)\n",
            "655 epoch loss tensor(0.2484, grad_fn=<BinaryCrossEntropyBackward0>)\n",
            "656 epoch loss tensor(0.2482, grad_fn=<BinaryCrossEntropyBackward0>)\n",
            "657 epoch loss tensor(0.2481, grad_fn=<BinaryCrossEntropyBackward0>)\n",
            "658 epoch loss tensor(0.2479, grad_fn=<BinaryCrossEntropyBackward0>)\n",
            "659 epoch loss tensor(0.2477, grad_fn=<BinaryCrossEntropyBackward0>)\n",
            "660 epoch loss tensor(0.2476, grad_fn=<BinaryCrossEntropyBackward0>)\n",
            "661 epoch loss tensor(0.2474, grad_fn=<BinaryCrossEntropyBackward0>)\n",
            "662 epoch loss tensor(0.2473, grad_fn=<BinaryCrossEntropyBackward0>)\n",
            "663 epoch loss tensor(0.2471, grad_fn=<BinaryCrossEntropyBackward0>)\n",
            "664 epoch loss tensor(0.2469, grad_fn=<BinaryCrossEntropyBackward0>)\n",
            "665 epoch loss tensor(0.2468, grad_fn=<BinaryCrossEntropyBackward0>)\n",
            "666 epoch loss tensor(0.2466, grad_fn=<BinaryCrossEntropyBackward0>)\n",
            "667 epoch loss tensor(0.2464, grad_fn=<BinaryCrossEntropyBackward0>)\n",
            "668 epoch loss tensor(0.2463, grad_fn=<BinaryCrossEntropyBackward0>)\n",
            "669 epoch loss tensor(0.2461, grad_fn=<BinaryCrossEntropyBackward0>)\n",
            "670 epoch loss tensor(0.2460, grad_fn=<BinaryCrossEntropyBackward0>)\n",
            "671 epoch loss tensor(0.2458, grad_fn=<BinaryCrossEntropyBackward0>)\n",
            "672 epoch loss tensor(0.2457, grad_fn=<BinaryCrossEntropyBackward0>)\n",
            "673 epoch loss tensor(0.2455, grad_fn=<BinaryCrossEntropyBackward0>)\n",
            "674 epoch loss tensor(0.2453, grad_fn=<BinaryCrossEntropyBackward0>)\n",
            "675 epoch loss tensor(0.2452, grad_fn=<BinaryCrossEntropyBackward0>)\n",
            "676 epoch loss tensor(0.2450, grad_fn=<BinaryCrossEntropyBackward0>)\n",
            "677 epoch loss tensor(0.2449, grad_fn=<BinaryCrossEntropyBackward0>)\n",
            "678 epoch loss tensor(0.2447, grad_fn=<BinaryCrossEntropyBackward0>)\n",
            "679 epoch loss tensor(0.2445, grad_fn=<BinaryCrossEntropyBackward0>)\n",
            "680 epoch loss tensor(0.2444, grad_fn=<BinaryCrossEntropyBackward0>)\n",
            "681 epoch loss tensor(0.2442, grad_fn=<BinaryCrossEntropyBackward0>)\n",
            "682 epoch loss tensor(0.2441, grad_fn=<BinaryCrossEntropyBackward0>)\n",
            "683 epoch loss tensor(0.2439, grad_fn=<BinaryCrossEntropyBackward0>)\n",
            "684 epoch loss tensor(0.2438, grad_fn=<BinaryCrossEntropyBackward0>)\n",
            "685 epoch loss tensor(0.2436, grad_fn=<BinaryCrossEntropyBackward0>)\n",
            "686 epoch loss tensor(0.2434, grad_fn=<BinaryCrossEntropyBackward0>)\n",
            "687 epoch loss tensor(0.2433, grad_fn=<BinaryCrossEntropyBackward0>)\n",
            "688 epoch loss tensor(0.2431, grad_fn=<BinaryCrossEntropyBackward0>)\n",
            "689 epoch loss tensor(0.2430, grad_fn=<BinaryCrossEntropyBackward0>)\n",
            "690 epoch loss tensor(0.2428, grad_fn=<BinaryCrossEntropyBackward0>)\n",
            "691 epoch loss tensor(0.2427, grad_fn=<BinaryCrossEntropyBackward0>)\n",
            "692 epoch loss tensor(0.2425, grad_fn=<BinaryCrossEntropyBackward0>)\n",
            "693 epoch loss tensor(0.2424, grad_fn=<BinaryCrossEntropyBackward0>)\n",
            "694 epoch loss tensor(0.2422, grad_fn=<BinaryCrossEntropyBackward0>)\n",
            "695 epoch loss tensor(0.2421, grad_fn=<BinaryCrossEntropyBackward0>)\n",
            "696 epoch loss tensor(0.2419, grad_fn=<BinaryCrossEntropyBackward0>)\n",
            "697 epoch loss tensor(0.2417, grad_fn=<BinaryCrossEntropyBackward0>)\n",
            "698 epoch loss tensor(0.2416, grad_fn=<BinaryCrossEntropyBackward0>)\n",
            "699 epoch loss tensor(0.2414, grad_fn=<BinaryCrossEntropyBackward0>)\n",
            "700 epoch loss tensor(0.2413, grad_fn=<BinaryCrossEntropyBackward0>)\n",
            "701 epoch loss tensor(0.2411, grad_fn=<BinaryCrossEntropyBackward0>)\n",
            "702 epoch loss tensor(0.2410, grad_fn=<BinaryCrossEntropyBackward0>)\n",
            "703 epoch loss tensor(0.2408, grad_fn=<BinaryCrossEntropyBackward0>)\n",
            "704 epoch loss tensor(0.2407, grad_fn=<BinaryCrossEntropyBackward0>)\n",
            "705 epoch loss tensor(0.2405, grad_fn=<BinaryCrossEntropyBackward0>)\n",
            "706 epoch loss tensor(0.2404, grad_fn=<BinaryCrossEntropyBackward0>)\n",
            "707 epoch loss tensor(0.2402, grad_fn=<BinaryCrossEntropyBackward0>)\n",
            "708 epoch loss tensor(0.2401, grad_fn=<BinaryCrossEntropyBackward0>)\n",
            "709 epoch loss tensor(0.2399, grad_fn=<BinaryCrossEntropyBackward0>)\n",
            "710 epoch loss tensor(0.2398, grad_fn=<BinaryCrossEntropyBackward0>)\n",
            "711 epoch loss tensor(0.2396, grad_fn=<BinaryCrossEntropyBackward0>)\n",
            "712 epoch loss tensor(0.2395, grad_fn=<BinaryCrossEntropyBackward0>)\n",
            "713 epoch loss tensor(0.2393, grad_fn=<BinaryCrossEntropyBackward0>)\n",
            "714 epoch loss tensor(0.2392, grad_fn=<BinaryCrossEntropyBackward0>)\n",
            "715 epoch loss tensor(0.2390, grad_fn=<BinaryCrossEntropyBackward0>)\n",
            "716 epoch loss tensor(0.2389, grad_fn=<BinaryCrossEntropyBackward0>)\n",
            "717 epoch loss tensor(0.2387, grad_fn=<BinaryCrossEntropyBackward0>)\n",
            "718 epoch loss tensor(0.2386, grad_fn=<BinaryCrossEntropyBackward0>)\n",
            "719 epoch loss tensor(0.2384, grad_fn=<BinaryCrossEntropyBackward0>)\n",
            "720 epoch loss tensor(0.2383, grad_fn=<BinaryCrossEntropyBackward0>)\n",
            "721 epoch loss tensor(0.2381, grad_fn=<BinaryCrossEntropyBackward0>)\n",
            "722 epoch loss tensor(0.2380, grad_fn=<BinaryCrossEntropyBackward0>)\n",
            "723 epoch loss tensor(0.2378, grad_fn=<BinaryCrossEntropyBackward0>)\n",
            "724 epoch loss tensor(0.2377, grad_fn=<BinaryCrossEntropyBackward0>)\n",
            "725 epoch loss tensor(0.2375, grad_fn=<BinaryCrossEntropyBackward0>)\n",
            "726 epoch loss tensor(0.2374, grad_fn=<BinaryCrossEntropyBackward0>)\n",
            "727 epoch loss tensor(0.2372, grad_fn=<BinaryCrossEntropyBackward0>)\n",
            "728 epoch loss tensor(0.2371, grad_fn=<BinaryCrossEntropyBackward0>)\n",
            "729 epoch loss tensor(0.2370, grad_fn=<BinaryCrossEntropyBackward0>)\n",
            "730 epoch loss tensor(0.2368, grad_fn=<BinaryCrossEntropyBackward0>)\n",
            "731 epoch loss tensor(0.2367, grad_fn=<BinaryCrossEntropyBackward0>)\n",
            "732 epoch loss tensor(0.2365, grad_fn=<BinaryCrossEntropyBackward0>)\n",
            "733 epoch loss tensor(0.2364, grad_fn=<BinaryCrossEntropyBackward0>)\n",
            "734 epoch loss tensor(0.2362, grad_fn=<BinaryCrossEntropyBackward0>)\n",
            "735 epoch loss tensor(0.2361, grad_fn=<BinaryCrossEntropyBackward0>)\n",
            "736 epoch loss tensor(0.2359, grad_fn=<BinaryCrossEntropyBackward0>)\n",
            "737 epoch loss tensor(0.2358, grad_fn=<BinaryCrossEntropyBackward0>)\n",
            "738 epoch loss tensor(0.2356, grad_fn=<BinaryCrossEntropyBackward0>)\n",
            "739 epoch loss tensor(0.2355, grad_fn=<BinaryCrossEntropyBackward0>)\n",
            "740 epoch loss tensor(0.2354, grad_fn=<BinaryCrossEntropyBackward0>)\n",
            "741 epoch loss tensor(0.2352, grad_fn=<BinaryCrossEntropyBackward0>)\n",
            "742 epoch loss tensor(0.2351, grad_fn=<BinaryCrossEntropyBackward0>)\n",
            "743 epoch loss tensor(0.2349, grad_fn=<BinaryCrossEntropyBackward0>)\n",
            "744 epoch loss tensor(0.2348, grad_fn=<BinaryCrossEntropyBackward0>)\n",
            "745 epoch loss tensor(0.2346, grad_fn=<BinaryCrossEntropyBackward0>)\n",
            "746 epoch loss tensor(0.2345, grad_fn=<BinaryCrossEntropyBackward0>)\n",
            "747 epoch loss tensor(0.2344, grad_fn=<BinaryCrossEntropyBackward0>)\n",
            "748 epoch loss tensor(0.2342, grad_fn=<BinaryCrossEntropyBackward0>)\n",
            "749 epoch loss tensor(0.2341, grad_fn=<BinaryCrossEntropyBackward0>)\n",
            "750 epoch loss tensor(0.2339, grad_fn=<BinaryCrossEntropyBackward0>)\n",
            "751 epoch loss tensor(0.2338, grad_fn=<BinaryCrossEntropyBackward0>)\n",
            "752 epoch loss tensor(0.2336, grad_fn=<BinaryCrossEntropyBackward0>)\n",
            "753 epoch loss tensor(0.2335, grad_fn=<BinaryCrossEntropyBackward0>)\n",
            "754 epoch loss tensor(0.2334, grad_fn=<BinaryCrossEntropyBackward0>)\n",
            "755 epoch loss tensor(0.2332, grad_fn=<BinaryCrossEntropyBackward0>)\n",
            "756 epoch loss tensor(0.2331, grad_fn=<BinaryCrossEntropyBackward0>)\n",
            "757 epoch loss tensor(0.2329, grad_fn=<BinaryCrossEntropyBackward0>)\n",
            "758 epoch loss tensor(0.2328, grad_fn=<BinaryCrossEntropyBackward0>)\n",
            "759 epoch loss tensor(0.2327, grad_fn=<BinaryCrossEntropyBackward0>)\n",
            "760 epoch loss tensor(0.2325, grad_fn=<BinaryCrossEntropyBackward0>)\n",
            "761 epoch loss tensor(0.2324, grad_fn=<BinaryCrossEntropyBackward0>)\n",
            "762 epoch loss tensor(0.2322, grad_fn=<BinaryCrossEntropyBackward0>)\n",
            "763 epoch loss tensor(0.2321, grad_fn=<BinaryCrossEntropyBackward0>)\n",
            "764 epoch loss tensor(0.2320, grad_fn=<BinaryCrossEntropyBackward0>)\n",
            "765 epoch loss tensor(0.2318, grad_fn=<BinaryCrossEntropyBackward0>)\n",
            "766 epoch loss tensor(0.2317, grad_fn=<BinaryCrossEntropyBackward0>)\n",
            "767 epoch loss tensor(0.2315, grad_fn=<BinaryCrossEntropyBackward0>)\n",
            "768 epoch loss tensor(0.2314, grad_fn=<BinaryCrossEntropyBackward0>)\n",
            "769 epoch loss tensor(0.2313, grad_fn=<BinaryCrossEntropyBackward0>)\n",
            "770 epoch loss tensor(0.2311, grad_fn=<BinaryCrossEntropyBackward0>)\n",
            "771 epoch loss tensor(0.2310, grad_fn=<BinaryCrossEntropyBackward0>)\n",
            "772 epoch loss tensor(0.2308, grad_fn=<BinaryCrossEntropyBackward0>)\n",
            "773 epoch loss tensor(0.2307, grad_fn=<BinaryCrossEntropyBackward0>)\n",
            "774 epoch loss tensor(0.2306, grad_fn=<BinaryCrossEntropyBackward0>)\n",
            "775 epoch loss tensor(0.2304, grad_fn=<BinaryCrossEntropyBackward0>)\n",
            "776 epoch loss tensor(0.2303, grad_fn=<BinaryCrossEntropyBackward0>)\n",
            "777 epoch loss tensor(0.2302, grad_fn=<BinaryCrossEntropyBackward0>)\n",
            "778 epoch loss tensor(0.2300, grad_fn=<BinaryCrossEntropyBackward0>)\n",
            "779 epoch loss tensor(0.2299, grad_fn=<BinaryCrossEntropyBackward0>)\n",
            "780 epoch loss tensor(0.2297, grad_fn=<BinaryCrossEntropyBackward0>)\n",
            "781 epoch loss tensor(0.2296, grad_fn=<BinaryCrossEntropyBackward0>)\n",
            "782 epoch loss tensor(0.2295, grad_fn=<BinaryCrossEntropyBackward0>)\n",
            "783 epoch loss tensor(0.2293, grad_fn=<BinaryCrossEntropyBackward0>)\n",
            "784 epoch loss tensor(0.2292, grad_fn=<BinaryCrossEntropyBackward0>)\n",
            "785 epoch loss tensor(0.2291, grad_fn=<BinaryCrossEntropyBackward0>)\n",
            "786 epoch loss tensor(0.2289, grad_fn=<BinaryCrossEntropyBackward0>)\n",
            "787 epoch loss tensor(0.2288, grad_fn=<BinaryCrossEntropyBackward0>)\n",
            "788 epoch loss tensor(0.2287, grad_fn=<BinaryCrossEntropyBackward0>)\n",
            "789 epoch loss tensor(0.2285, grad_fn=<BinaryCrossEntropyBackward0>)\n",
            "790 epoch loss tensor(0.2284, grad_fn=<BinaryCrossEntropyBackward0>)\n",
            "791 epoch loss tensor(0.2283, grad_fn=<BinaryCrossEntropyBackward0>)\n",
            "792 epoch loss tensor(0.2281, grad_fn=<BinaryCrossEntropyBackward0>)\n",
            "793 epoch loss tensor(0.2280, grad_fn=<BinaryCrossEntropyBackward0>)\n",
            "794 epoch loss tensor(0.2279, grad_fn=<BinaryCrossEntropyBackward0>)\n",
            "795 epoch loss tensor(0.2277, grad_fn=<BinaryCrossEntropyBackward0>)\n",
            "796 epoch loss tensor(0.2276, grad_fn=<BinaryCrossEntropyBackward0>)\n",
            "797 epoch loss tensor(0.2275, grad_fn=<BinaryCrossEntropyBackward0>)\n",
            "798 epoch loss tensor(0.2273, grad_fn=<BinaryCrossEntropyBackward0>)\n",
            "799 epoch loss tensor(0.2272, grad_fn=<BinaryCrossEntropyBackward0>)\n",
            "800 epoch loss tensor(0.2271, grad_fn=<BinaryCrossEntropyBackward0>)\n",
            "801 epoch loss tensor(0.2269, grad_fn=<BinaryCrossEntropyBackward0>)\n",
            "802 epoch loss tensor(0.2268, grad_fn=<BinaryCrossEntropyBackward0>)\n",
            "803 epoch loss tensor(0.2267, grad_fn=<BinaryCrossEntropyBackward0>)\n",
            "804 epoch loss tensor(0.2265, grad_fn=<BinaryCrossEntropyBackward0>)\n",
            "805 epoch loss tensor(0.2264, grad_fn=<BinaryCrossEntropyBackward0>)\n",
            "806 epoch loss tensor(0.2263, grad_fn=<BinaryCrossEntropyBackward0>)\n",
            "807 epoch loss tensor(0.2261, grad_fn=<BinaryCrossEntropyBackward0>)\n",
            "808 epoch loss tensor(0.2260, grad_fn=<BinaryCrossEntropyBackward0>)\n",
            "809 epoch loss tensor(0.2259, grad_fn=<BinaryCrossEntropyBackward0>)\n",
            "810 epoch loss tensor(0.2257, grad_fn=<BinaryCrossEntropyBackward0>)\n",
            "811 epoch loss tensor(0.2256, grad_fn=<BinaryCrossEntropyBackward0>)\n",
            "812 epoch loss tensor(0.2255, grad_fn=<BinaryCrossEntropyBackward0>)\n",
            "813 epoch loss tensor(0.2253, grad_fn=<BinaryCrossEntropyBackward0>)\n",
            "814 epoch loss tensor(0.2252, grad_fn=<BinaryCrossEntropyBackward0>)\n",
            "815 epoch loss tensor(0.2251, grad_fn=<BinaryCrossEntropyBackward0>)\n",
            "816 epoch loss tensor(0.2250, grad_fn=<BinaryCrossEntropyBackward0>)\n",
            "817 epoch loss tensor(0.2248, grad_fn=<BinaryCrossEntropyBackward0>)\n",
            "818 epoch loss tensor(0.2247, grad_fn=<BinaryCrossEntropyBackward0>)\n",
            "819 epoch loss tensor(0.2246, grad_fn=<BinaryCrossEntropyBackward0>)\n",
            "820 epoch loss tensor(0.2244, grad_fn=<BinaryCrossEntropyBackward0>)\n",
            "821 epoch loss tensor(0.2243, grad_fn=<BinaryCrossEntropyBackward0>)\n",
            "822 epoch loss tensor(0.2242, grad_fn=<BinaryCrossEntropyBackward0>)\n",
            "823 epoch loss tensor(0.2241, grad_fn=<BinaryCrossEntropyBackward0>)\n",
            "824 epoch loss tensor(0.2239, grad_fn=<BinaryCrossEntropyBackward0>)\n",
            "825 epoch loss tensor(0.2238, grad_fn=<BinaryCrossEntropyBackward0>)\n",
            "826 epoch loss tensor(0.2237, grad_fn=<BinaryCrossEntropyBackward0>)\n",
            "827 epoch loss tensor(0.2235, grad_fn=<BinaryCrossEntropyBackward0>)\n",
            "828 epoch loss tensor(0.2234, grad_fn=<BinaryCrossEntropyBackward0>)\n",
            "829 epoch loss tensor(0.2233, grad_fn=<BinaryCrossEntropyBackward0>)\n",
            "830 epoch loss tensor(0.2232, grad_fn=<BinaryCrossEntropyBackward0>)\n",
            "831 epoch loss tensor(0.2230, grad_fn=<BinaryCrossEntropyBackward0>)\n",
            "832 epoch loss tensor(0.2229, grad_fn=<BinaryCrossEntropyBackward0>)\n",
            "833 epoch loss tensor(0.2228, grad_fn=<BinaryCrossEntropyBackward0>)\n",
            "834 epoch loss tensor(0.2226, grad_fn=<BinaryCrossEntropyBackward0>)\n",
            "835 epoch loss tensor(0.2225, grad_fn=<BinaryCrossEntropyBackward0>)\n",
            "836 epoch loss tensor(0.2224, grad_fn=<BinaryCrossEntropyBackward0>)\n",
            "837 epoch loss tensor(0.2223, grad_fn=<BinaryCrossEntropyBackward0>)\n",
            "838 epoch loss tensor(0.2221, grad_fn=<BinaryCrossEntropyBackward0>)\n",
            "839 epoch loss tensor(0.2220, grad_fn=<BinaryCrossEntropyBackward0>)\n",
            "840 epoch loss tensor(0.2219, grad_fn=<BinaryCrossEntropyBackward0>)\n",
            "841 epoch loss tensor(0.2218, grad_fn=<BinaryCrossEntropyBackward0>)\n",
            "842 epoch loss tensor(0.2216, grad_fn=<BinaryCrossEntropyBackward0>)\n",
            "843 epoch loss tensor(0.2215, grad_fn=<BinaryCrossEntropyBackward0>)\n",
            "844 epoch loss tensor(0.2214, grad_fn=<BinaryCrossEntropyBackward0>)\n",
            "845 epoch loss tensor(0.2213, grad_fn=<BinaryCrossEntropyBackward0>)\n",
            "846 epoch loss tensor(0.2211, grad_fn=<BinaryCrossEntropyBackward0>)\n",
            "847 epoch loss tensor(0.2210, grad_fn=<BinaryCrossEntropyBackward0>)\n",
            "848 epoch loss tensor(0.2209, grad_fn=<BinaryCrossEntropyBackward0>)\n",
            "849 epoch loss tensor(0.2208, grad_fn=<BinaryCrossEntropyBackward0>)\n",
            "850 epoch loss tensor(0.2206, grad_fn=<BinaryCrossEntropyBackward0>)\n",
            "851 epoch loss tensor(0.2205, grad_fn=<BinaryCrossEntropyBackward0>)\n",
            "852 epoch loss tensor(0.2204, grad_fn=<BinaryCrossEntropyBackward0>)\n",
            "853 epoch loss tensor(0.2203, grad_fn=<BinaryCrossEntropyBackward0>)\n",
            "854 epoch loss tensor(0.2201, grad_fn=<BinaryCrossEntropyBackward0>)\n",
            "855 epoch loss tensor(0.2200, grad_fn=<BinaryCrossEntropyBackward0>)\n",
            "856 epoch loss tensor(0.2199, grad_fn=<BinaryCrossEntropyBackward0>)\n",
            "857 epoch loss tensor(0.2198, grad_fn=<BinaryCrossEntropyBackward0>)\n",
            "858 epoch loss tensor(0.2196, grad_fn=<BinaryCrossEntropyBackward0>)\n",
            "859 epoch loss tensor(0.2195, grad_fn=<BinaryCrossEntropyBackward0>)\n",
            "860 epoch loss tensor(0.2194, grad_fn=<BinaryCrossEntropyBackward0>)\n",
            "861 epoch loss tensor(0.2193, grad_fn=<BinaryCrossEntropyBackward0>)\n",
            "862 epoch loss tensor(0.2192, grad_fn=<BinaryCrossEntropyBackward0>)\n",
            "863 epoch loss tensor(0.2190, grad_fn=<BinaryCrossEntropyBackward0>)\n",
            "864 epoch loss tensor(0.2189, grad_fn=<BinaryCrossEntropyBackward0>)\n",
            "865 epoch loss tensor(0.2188, grad_fn=<BinaryCrossEntropyBackward0>)\n",
            "866 epoch loss tensor(0.2187, grad_fn=<BinaryCrossEntropyBackward0>)\n",
            "867 epoch loss tensor(0.2185, grad_fn=<BinaryCrossEntropyBackward0>)\n",
            "868 epoch loss tensor(0.2184, grad_fn=<BinaryCrossEntropyBackward0>)\n",
            "869 epoch loss tensor(0.2183, grad_fn=<BinaryCrossEntropyBackward0>)\n",
            "870 epoch loss tensor(0.2182, grad_fn=<BinaryCrossEntropyBackward0>)\n",
            "871 epoch loss tensor(0.2181, grad_fn=<BinaryCrossEntropyBackward0>)\n",
            "872 epoch loss tensor(0.2179, grad_fn=<BinaryCrossEntropyBackward0>)\n",
            "873 epoch loss tensor(0.2178, grad_fn=<BinaryCrossEntropyBackward0>)\n",
            "874 epoch loss tensor(0.2177, grad_fn=<BinaryCrossEntropyBackward0>)\n",
            "875 epoch loss tensor(0.2176, grad_fn=<BinaryCrossEntropyBackward0>)\n",
            "876 epoch loss tensor(0.2175, grad_fn=<BinaryCrossEntropyBackward0>)\n",
            "877 epoch loss tensor(0.2173, grad_fn=<BinaryCrossEntropyBackward0>)\n",
            "878 epoch loss tensor(0.2172, grad_fn=<BinaryCrossEntropyBackward0>)\n",
            "879 epoch loss tensor(0.2171, grad_fn=<BinaryCrossEntropyBackward0>)\n",
            "880 epoch loss tensor(0.2170, grad_fn=<BinaryCrossEntropyBackward0>)\n",
            "881 epoch loss tensor(0.2169, grad_fn=<BinaryCrossEntropyBackward0>)\n",
            "882 epoch loss tensor(0.2167, grad_fn=<BinaryCrossEntropyBackward0>)\n",
            "883 epoch loss tensor(0.2166, grad_fn=<BinaryCrossEntropyBackward0>)\n",
            "884 epoch loss tensor(0.2165, grad_fn=<BinaryCrossEntropyBackward0>)\n",
            "885 epoch loss tensor(0.2164, grad_fn=<BinaryCrossEntropyBackward0>)\n",
            "886 epoch loss tensor(0.2163, grad_fn=<BinaryCrossEntropyBackward0>)\n",
            "887 epoch loss tensor(0.2162, grad_fn=<BinaryCrossEntropyBackward0>)\n",
            "888 epoch loss tensor(0.2160, grad_fn=<BinaryCrossEntropyBackward0>)\n",
            "889 epoch loss tensor(0.2159, grad_fn=<BinaryCrossEntropyBackward0>)\n",
            "890 epoch loss tensor(0.2158, grad_fn=<BinaryCrossEntropyBackward0>)\n",
            "891 epoch loss tensor(0.2157, grad_fn=<BinaryCrossEntropyBackward0>)\n",
            "892 epoch loss tensor(0.2156, grad_fn=<BinaryCrossEntropyBackward0>)\n",
            "893 epoch loss tensor(0.2154, grad_fn=<BinaryCrossEntropyBackward0>)\n",
            "894 epoch loss tensor(0.2153, grad_fn=<BinaryCrossEntropyBackward0>)\n",
            "895 epoch loss tensor(0.2152, grad_fn=<BinaryCrossEntropyBackward0>)\n",
            "896 epoch loss tensor(0.2151, grad_fn=<BinaryCrossEntropyBackward0>)\n",
            "897 epoch loss tensor(0.2150, grad_fn=<BinaryCrossEntropyBackward0>)\n",
            "898 epoch loss tensor(0.2149, grad_fn=<BinaryCrossEntropyBackward0>)\n",
            "899 epoch loss tensor(0.2147, grad_fn=<BinaryCrossEntropyBackward0>)\n",
            "900 epoch loss tensor(0.2146, grad_fn=<BinaryCrossEntropyBackward0>)\n",
            "901 epoch loss tensor(0.2145, grad_fn=<BinaryCrossEntropyBackward0>)\n",
            "902 epoch loss tensor(0.2144, grad_fn=<BinaryCrossEntropyBackward0>)\n",
            "903 epoch loss tensor(0.2143, grad_fn=<BinaryCrossEntropyBackward0>)\n",
            "904 epoch loss tensor(0.2142, grad_fn=<BinaryCrossEntropyBackward0>)\n",
            "905 epoch loss tensor(0.2140, grad_fn=<BinaryCrossEntropyBackward0>)\n",
            "906 epoch loss tensor(0.2139, grad_fn=<BinaryCrossEntropyBackward0>)\n",
            "907 epoch loss tensor(0.2138, grad_fn=<BinaryCrossEntropyBackward0>)\n",
            "908 epoch loss tensor(0.2137, grad_fn=<BinaryCrossEntropyBackward0>)\n",
            "909 epoch loss tensor(0.2136, grad_fn=<BinaryCrossEntropyBackward0>)\n",
            "910 epoch loss tensor(0.2135, grad_fn=<BinaryCrossEntropyBackward0>)\n",
            "911 epoch loss tensor(0.2134, grad_fn=<BinaryCrossEntropyBackward0>)\n",
            "912 epoch loss tensor(0.2132, grad_fn=<BinaryCrossEntropyBackward0>)\n",
            "913 epoch loss tensor(0.2131, grad_fn=<BinaryCrossEntropyBackward0>)\n",
            "914 epoch loss tensor(0.2130, grad_fn=<BinaryCrossEntropyBackward0>)\n",
            "915 epoch loss tensor(0.2129, grad_fn=<BinaryCrossEntropyBackward0>)\n",
            "916 epoch loss tensor(0.2128, grad_fn=<BinaryCrossEntropyBackward0>)\n",
            "917 epoch loss tensor(0.2127, grad_fn=<BinaryCrossEntropyBackward0>)\n",
            "918 epoch loss tensor(0.2126, grad_fn=<BinaryCrossEntropyBackward0>)\n",
            "919 epoch loss tensor(0.2124, grad_fn=<BinaryCrossEntropyBackward0>)\n",
            "920 epoch loss tensor(0.2123, grad_fn=<BinaryCrossEntropyBackward0>)\n",
            "921 epoch loss tensor(0.2122, grad_fn=<BinaryCrossEntropyBackward0>)\n",
            "922 epoch loss tensor(0.2121, grad_fn=<BinaryCrossEntropyBackward0>)\n",
            "923 epoch loss tensor(0.2120, grad_fn=<BinaryCrossEntropyBackward0>)\n",
            "924 epoch loss tensor(0.2119, grad_fn=<BinaryCrossEntropyBackward0>)\n",
            "925 epoch loss tensor(0.2118, grad_fn=<BinaryCrossEntropyBackward0>)\n",
            "926 epoch loss tensor(0.2116, grad_fn=<BinaryCrossEntropyBackward0>)\n",
            "927 epoch loss tensor(0.2115, grad_fn=<BinaryCrossEntropyBackward0>)\n",
            "928 epoch loss tensor(0.2114, grad_fn=<BinaryCrossEntropyBackward0>)\n",
            "929 epoch loss tensor(0.2113, grad_fn=<BinaryCrossEntropyBackward0>)\n",
            "930 epoch loss tensor(0.2112, grad_fn=<BinaryCrossEntropyBackward0>)\n",
            "931 epoch loss tensor(0.2111, grad_fn=<BinaryCrossEntropyBackward0>)\n",
            "932 epoch loss tensor(0.2110, grad_fn=<BinaryCrossEntropyBackward0>)\n",
            "933 epoch loss tensor(0.2109, grad_fn=<BinaryCrossEntropyBackward0>)\n",
            "934 epoch loss tensor(0.2107, grad_fn=<BinaryCrossEntropyBackward0>)\n",
            "935 epoch loss tensor(0.2106, grad_fn=<BinaryCrossEntropyBackward0>)\n",
            "936 epoch loss tensor(0.2105, grad_fn=<BinaryCrossEntropyBackward0>)\n",
            "937 epoch loss tensor(0.2104, grad_fn=<BinaryCrossEntropyBackward0>)\n",
            "938 epoch loss tensor(0.2103, grad_fn=<BinaryCrossEntropyBackward0>)\n",
            "939 epoch loss tensor(0.2102, grad_fn=<BinaryCrossEntropyBackward0>)\n",
            "940 epoch loss tensor(0.2101, grad_fn=<BinaryCrossEntropyBackward0>)\n",
            "941 epoch loss tensor(0.2100, grad_fn=<BinaryCrossEntropyBackward0>)\n",
            "942 epoch loss tensor(0.2099, grad_fn=<BinaryCrossEntropyBackward0>)\n",
            "943 epoch loss tensor(0.2097, grad_fn=<BinaryCrossEntropyBackward0>)\n",
            "944 epoch loss tensor(0.2096, grad_fn=<BinaryCrossEntropyBackward0>)\n",
            "945 epoch loss tensor(0.2095, grad_fn=<BinaryCrossEntropyBackward0>)\n",
            "946 epoch loss tensor(0.2094, grad_fn=<BinaryCrossEntropyBackward0>)\n",
            "947 epoch loss tensor(0.2093, grad_fn=<BinaryCrossEntropyBackward0>)\n",
            "948 epoch loss tensor(0.2092, grad_fn=<BinaryCrossEntropyBackward0>)\n",
            "949 epoch loss tensor(0.2091, grad_fn=<BinaryCrossEntropyBackward0>)\n",
            "950 epoch loss tensor(0.2090, grad_fn=<BinaryCrossEntropyBackward0>)\n",
            "951 epoch loss tensor(0.2089, grad_fn=<BinaryCrossEntropyBackward0>)\n",
            "952 epoch loss tensor(0.2088, grad_fn=<BinaryCrossEntropyBackward0>)\n",
            "953 epoch loss tensor(0.2086, grad_fn=<BinaryCrossEntropyBackward0>)\n",
            "954 epoch loss tensor(0.2085, grad_fn=<BinaryCrossEntropyBackward0>)\n",
            "955 epoch loss tensor(0.2084, grad_fn=<BinaryCrossEntropyBackward0>)\n",
            "956 epoch loss tensor(0.2083, grad_fn=<BinaryCrossEntropyBackward0>)\n",
            "957 epoch loss tensor(0.2082, grad_fn=<BinaryCrossEntropyBackward0>)\n",
            "958 epoch loss tensor(0.2081, grad_fn=<BinaryCrossEntropyBackward0>)\n",
            "959 epoch loss tensor(0.2080, grad_fn=<BinaryCrossEntropyBackward0>)\n",
            "960 epoch loss tensor(0.2079, grad_fn=<BinaryCrossEntropyBackward0>)\n",
            "961 epoch loss tensor(0.2078, grad_fn=<BinaryCrossEntropyBackward0>)\n",
            "962 epoch loss tensor(0.2077, grad_fn=<BinaryCrossEntropyBackward0>)\n",
            "963 epoch loss tensor(0.2076, grad_fn=<BinaryCrossEntropyBackward0>)\n",
            "964 epoch loss tensor(0.2075, grad_fn=<BinaryCrossEntropyBackward0>)\n",
            "965 epoch loss tensor(0.2074, grad_fn=<BinaryCrossEntropyBackward0>)\n",
            "966 epoch loss tensor(0.2072, grad_fn=<BinaryCrossEntropyBackward0>)\n",
            "967 epoch loss tensor(0.2071, grad_fn=<BinaryCrossEntropyBackward0>)\n",
            "968 epoch loss tensor(0.2070, grad_fn=<BinaryCrossEntropyBackward0>)\n",
            "969 epoch loss tensor(0.2069, grad_fn=<BinaryCrossEntropyBackward0>)\n",
            "970 epoch loss tensor(0.2068, grad_fn=<BinaryCrossEntropyBackward0>)\n",
            "971 epoch loss tensor(0.2067, grad_fn=<BinaryCrossEntropyBackward0>)\n",
            "972 epoch loss tensor(0.2066, grad_fn=<BinaryCrossEntropyBackward0>)\n",
            "973 epoch loss tensor(0.2065, grad_fn=<BinaryCrossEntropyBackward0>)\n",
            "974 epoch loss tensor(0.2064, grad_fn=<BinaryCrossEntropyBackward0>)\n",
            "975 epoch loss tensor(0.2063, grad_fn=<BinaryCrossEntropyBackward0>)\n",
            "976 epoch loss tensor(0.2062, grad_fn=<BinaryCrossEntropyBackward0>)\n",
            "977 epoch loss tensor(0.2061, grad_fn=<BinaryCrossEntropyBackward0>)\n",
            "978 epoch loss tensor(0.2060, grad_fn=<BinaryCrossEntropyBackward0>)\n",
            "979 epoch loss tensor(0.2059, grad_fn=<BinaryCrossEntropyBackward0>)\n",
            "980 epoch loss tensor(0.2058, grad_fn=<BinaryCrossEntropyBackward0>)\n",
            "981 epoch loss tensor(0.2056, grad_fn=<BinaryCrossEntropyBackward0>)\n",
            "982 epoch loss tensor(0.2055, grad_fn=<BinaryCrossEntropyBackward0>)\n",
            "983 epoch loss tensor(0.2054, grad_fn=<BinaryCrossEntropyBackward0>)\n",
            "984 epoch loss tensor(0.2053, grad_fn=<BinaryCrossEntropyBackward0>)\n",
            "985 epoch loss tensor(0.2052, grad_fn=<BinaryCrossEntropyBackward0>)\n",
            "986 epoch loss tensor(0.2051, grad_fn=<BinaryCrossEntropyBackward0>)\n",
            "987 epoch loss tensor(0.2050, grad_fn=<BinaryCrossEntropyBackward0>)\n",
            "988 epoch loss tensor(0.2049, grad_fn=<BinaryCrossEntropyBackward0>)\n",
            "989 epoch loss tensor(0.2048, grad_fn=<BinaryCrossEntropyBackward0>)\n",
            "990 epoch loss tensor(0.2047, grad_fn=<BinaryCrossEntropyBackward0>)\n",
            "991 epoch loss tensor(0.2046, grad_fn=<BinaryCrossEntropyBackward0>)\n",
            "992 epoch loss tensor(0.2045, grad_fn=<BinaryCrossEntropyBackward0>)\n",
            "993 epoch loss tensor(0.2044, grad_fn=<BinaryCrossEntropyBackward0>)\n",
            "994 epoch loss tensor(0.2043, grad_fn=<BinaryCrossEntropyBackward0>)\n",
            "995 epoch loss tensor(0.2042, grad_fn=<BinaryCrossEntropyBackward0>)\n",
            "996 epoch loss tensor(0.2041, grad_fn=<BinaryCrossEntropyBackward0>)\n",
            "997 epoch loss tensor(0.2040, grad_fn=<BinaryCrossEntropyBackward0>)\n",
            "998 epoch loss tensor(0.2039, grad_fn=<BinaryCrossEntropyBackward0>)\n",
            "999 epoch loss tensor(0.2038, grad_fn=<BinaryCrossEntropyBackward0>)\n"
          ]
        }
      ]
    },
    {
      "cell_type": "code",
      "source": [
        "result = [tensor.item() for tensor in losses]"
      ],
      "metadata": {
        "id": "4VgBRhcGxdUI"
      },
      "execution_count": null,
      "outputs": []
    },
    {
      "cell_type": "code",
      "source": [
        "plt.plot(range(epochs), result)"
      ],
      "metadata": {
        "colab": {
          "base_uri": "https://localhost:8080/",
          "height": 282
        },
        "id": "NxCEzkUhrDpM",
        "outputId": "2ab8b655-3236-441f-8cf2-5b8b8a7f70d5"
      },
      "execution_count": null,
      "outputs": [
        {
          "output_type": "execute_result",
          "data": {
            "text/plain": [
              "[<matplotlib.lines.Line2D at 0x7f9e65bada10>]"
            ]
          },
          "metadata": {},
          "execution_count": 21
        },
        {
          "output_type": "display_data",
          "data": {
            "text/plain": [
              "<Figure size 432x288 with 1 Axes>"
            ],
            "image/png": "[encoded data removed]"
          },
          "metadata": {
            "needs_background": "light"
          }
        }
      ]
    },
    {
      "cell_type": "code",
      "source": [
        "[w,b] = model.parameters()\n",
        "w1= w[0,0].item()\n",
        "w2= w[0,1].item()\n",
        "b= b.item()"
      ],
      "metadata": {
        "id": "fnB_iB255dTF"
      },
      "execution_count": null,
      "outputs": []
    },
    {
      "cell_type": "code",
      "source": [
        "x1= np.array([-2,2])\n",
        "x2 = (w1*x1+b)/-w2\n",
        "plt.plot(x1,x2,'r')\n",
        "plt.scatter(x[y==0, 0], x[y==0, 1])\n",
        "plt.scatter(x[y==1, 0], x[y==1, 1])\n",
        "plt.show()"
      ],
      "metadata": {
        "colab": {
          "base_uri": "https://localhost:8080/",
          "height": 265
        },
        "id": "JnJOetd65uD6",
        "outputId": "4144b451-da4a-42ca-a069-8a4031eb4cd3"
      },
      "execution_count": null,
      "outputs": [
        {
          "output_type": "display_data",
          "data": {
            "text/plain": [
              "<Figure size 432x288 with 1 Axes>"
            ],
            "image/png": "[encoded data removed]"
          },
          "metadata": {
            "needs_background": "light"
          }
        }
      ]
    },
    {
      "cell_type": "markdown",
      "source": [
        "Testing"
      ],
      "metadata": {
        "id": "pCz2vqlcyHGP"
      }
    },
    {
      "cell_type": "code",
      "source": [
        "point1 = np.array([1.5,0.0])\n",
        "point2 = np.array([-1.0,1.0])"
      ],
      "metadata": {
        "id": "3LEUttY9tP_Z"
      },
      "execution_count": null,
      "outputs": []
    },
    {
      "cell_type": "code",
      "source": [
        "x1= np.array([-2,2])\n",
        "x2 = (w1*x1+b)/-w2\n",
        "plt.plot(x1,x2,'r')\n",
        "plt.scatter(x[y==0, 0], x[y==0, 1])\n",
        "plt.scatter(x[y==1, 0], x[y==1, 1])\n",
        "plt.plot(point1[0],point1[1],'ro')\n",
        "plt.plot(point2[0],point2[1],'ko')\n",
        "print('the prediction for point1 is', model.predict(torch.from_numpy(point1)) )\n",
        "plt.show()"
      ],
      "metadata": {
        "colab": {
          "base_uri": "https://localhost:8080/",
          "height": 639
        },
        "id": "iiprLUd685C5",
        "outputId": "03ba2fc9-ee69-4e02-b94d-9a0fcba12fac"
      },
      "execution_count": null,
      "outputs": [
        {
          "output_type": "error",
          "ename": "AttributeError",
          "evalue": "ignored",
          "traceback": [
            "\u001b[0;31m---------------------------------------------------------------------------\u001b[0m",
            "\u001b[0;31mAttributeError\u001b[0m                            Traceback (most recent call last)",
            "\u001b[0;32m<ipython-input-29-1422b600e9cb>\u001b[0m in \u001b[0;36m<module>\u001b[0;34m()\u001b[0m\n\u001b[1;32m      6\u001b[0m \u001b[0mplt\u001b[0m\u001b[0;34m.\u001b[0m\u001b[0mplot\u001b[0m\u001b[0;34m(\u001b[0m\u001b[0mpoint1\u001b[0m\u001b[0;34m[\u001b[0m\u001b[0;36m0\u001b[0m\u001b[0;34m]\u001b[0m\u001b[0;34m,\u001b[0m\u001b[0mpoint1\u001b[0m\u001b[0;34m[\u001b[0m\u001b[0;36m1\u001b[0m\u001b[0;34m]\u001b[0m\u001b[0;34m,\u001b[0m\u001b[0;34m'ro'\u001b[0m\u001b[0;34m)\u001b[0m\u001b[0;34m\u001b[0m\u001b[0;34m\u001b[0m\u001b[0m\n\u001b[1;32m      7\u001b[0m \u001b[0mplt\u001b[0m\u001b[0;34m.\u001b[0m\u001b[0mplot\u001b[0m\u001b[0;34m(\u001b[0m\u001b[0mpoint2\u001b[0m\u001b[0;34m[\u001b[0m\u001b[0;36m0\u001b[0m\u001b[0;34m]\u001b[0m\u001b[0;34m,\u001b[0m\u001b[0mpoint2\u001b[0m\u001b[0;34m[\u001b[0m\u001b[0;36m1\u001b[0m\u001b[0;34m]\u001b[0m\u001b[0;34m,\u001b[0m\u001b[0;34m'ko'\u001b[0m\u001b[0;34m)\u001b[0m\u001b[0;34m\u001b[0m\u001b[0;34m\u001b[0m\u001b[0m\n\u001b[0;32m----> 8\u001b[0;31m \u001b[0mprint\u001b[0m\u001b[0;34m(\u001b[0m\u001b[0;34m'the prediction for point1 is'\u001b[0m\u001b[0;34m,\u001b[0m \u001b[0mmodel\u001b[0m\u001b[0;34m.\u001b[0m\u001b[0mpredict\u001b[0m\u001b[0;34m(\u001b[0m\u001b[0mtorch\u001b[0m\u001b[0;34m.\u001b[0m\u001b[0mfrom_numpy\u001b[0m\u001b[0;34m(\u001b[0m\u001b[0mpoint1\u001b[0m\u001b[0;34m)\u001b[0m\u001b[0;34m)\u001b[0m \u001b[0;34m)\u001b[0m\u001b[0;34m\u001b[0m\u001b[0;34m\u001b[0m\u001b[0m\n\u001b[0m\u001b[1;32m      9\u001b[0m \u001b[0mplt\u001b[0m\u001b[0;34m.\u001b[0m\u001b[0mshow\u001b[0m\u001b[0;34m(\u001b[0m\u001b[0;34m)\u001b[0m\u001b[0;34m\u001b[0m\u001b[0;34m\u001b[0m\u001b[0m\n",
            "\u001b[0;32m/usr/local/lib/python3.7/dist-packages/torch/nn/modules/module.py\u001b[0m in \u001b[0;36m__getattr__\u001b[0;34m(self, name)\u001b[0m\n\u001b[1;32m   1184\u001b[0m                 \u001b[0;32mreturn\u001b[0m \u001b[0mmodules\u001b[0m\u001b[0;34m[\u001b[0m\u001b[0mname\u001b[0m\u001b[0;34m]\u001b[0m\u001b[0;34m\u001b[0m\u001b[0;34m\u001b[0m\u001b[0m\n\u001b[1;32m   1185\u001b[0m         raise AttributeError(\"'{}' object has no attribute '{}'\".format(\n\u001b[0;32m-> 1186\u001b[0;31m             type(self).__name__, name))\n\u001b[0m\u001b[1;32m   1187\u001b[0m \u001b[0;34m\u001b[0m\u001b[0m\n\u001b[1;32m   1188\u001b[0m     \u001b[0;32mdef\u001b[0m \u001b[0m__setattr__\u001b[0m\u001b[0;34m(\u001b[0m\u001b[0mself\u001b[0m\u001b[0;34m,\u001b[0m \u001b[0mname\u001b[0m\u001b[0;34m:\u001b[0m \u001b[0mstr\u001b[0m\u001b[0;34m,\u001b[0m \u001b[0mvalue\u001b[0m\u001b[0;34m:\u001b[0m \u001b[0mUnion\u001b[0m\u001b[0;34m[\u001b[0m\u001b[0mTensor\u001b[0m\u001b[0;34m,\u001b[0m \u001b[0;34m'Module'\u001b[0m\u001b[0;34m]\u001b[0m\u001b[0;34m)\u001b[0m \u001b[0;34m->\u001b[0m \u001b[0;32mNone\u001b[0m\u001b[0;34m:\u001b[0m\u001b[0;34m\u001b[0m\u001b[0;34m\u001b[0m\u001b[0m\n",
            "\u001b[0;31mAttributeError\u001b[0m: 'Model' object has no attribute 'predict'"
          ]
        },
        {
          "output_type": "display_data",
          "data": {
            "text/plain": [
              "<Figure size 432x288 with 1 Axes>"
            ],
            "image/png": "[encoded data removed]"
          },
          "metadata": {
            "needs_background": "light"
          }
        }
      ]
    },
    {
      "cell_type": "code",
      "source": [
        ""
      ],
      "metadata": {
        "id": "ROWtL0Zf_cKu"
      },
      "execution_count": null,
      "outputs": []
    }
  ],
  "metadata": {
    "colab": {
      "name": "Basic of Pytorch AND Linear Regression.ipynb",
      "provenance": []
    },
    "kernelspec": {
      "display_name": "Python 3",
      "name": "python3"
    },
    "language_info": {
      "name": "python"
    }
  },
  "nbformat": 4,
  "nbformat_minor": 0
}